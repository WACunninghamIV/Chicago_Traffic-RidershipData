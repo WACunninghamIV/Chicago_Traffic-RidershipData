{
 "cells": [
  {
   "cell_type": "code",
   "execution_count": 1,
   "metadata": {},
   "outputs": [],
   "source": [
    "import pandas as pd\n",
    "import matplotlib.pyplot as plt\n",
    "import numpy as np\n",
    "import datetime"
   ]
  },
  {
   "cell_type": "code",
   "execution_count": 2,
   "metadata": {},
   "outputs": [],
   "source": [
    "# Store filepath in a variable\n",
    "speed_data = \"Chicago/Speed_Camera_Violations 2.csv\""
   ]
  },
  {
   "cell_type": "code",
   "execution_count": 3,
   "metadata": {},
   "outputs": [],
   "source": [
    "speed_data_df = pd.read_csv(speed_data, encoding=\"UTF-8\")"
   ]
  },
  {
   "cell_type": "code",
   "execution_count": 4,
   "metadata": {},
   "outputs": [
    {
     "data": {
      "text/html": [
       "<div>\n",
       "<style scoped>\n",
       "    .dataframe tbody tr th:only-of-type {\n",
       "        vertical-align: middle;\n",
       "    }\n",
       "\n",
       "    .dataframe tbody tr th {\n",
       "        vertical-align: top;\n",
       "    }\n",
       "\n",
       "    .dataframe thead th {\n",
       "        text-align: right;\n",
       "    }\n",
       "</style>\n",
       "<table border=\"1\" class=\"dataframe\">\n",
       "  <thead>\n",
       "    <tr style=\"text-align: right;\">\n",
       "      <th></th>\n",
       "      <th>ADDRESS</th>\n",
       "      <th>CAMERA ID</th>\n",
       "      <th>VIOLATION DATE</th>\n",
       "      <th>VIOLATIONS</th>\n",
       "      <th>X COORDINATE</th>\n",
       "      <th>Y COORDINATE</th>\n",
       "      <th>LATITUDE</th>\n",
       "      <th>LONGITUDE</th>\n",
       "      <th>LOCATION</th>\n",
       "    </tr>\n",
       "  </thead>\n",
       "  <tbody>\n",
       "    <tr>\n",
       "      <th>0</th>\n",
       "      <td>1111 N HUMBOLDT</td>\n",
       "      <td>CHI010</td>\n",
       "      <td>4/10/15</td>\n",
       "      <td>67</td>\n",
       "      <td>NaN</td>\n",
       "      <td>NaN</td>\n",
       "      <td>NaN</td>\n",
       "      <td>NaN</td>\n",
       "      <td>NaN</td>\n",
       "    </tr>\n",
       "    <tr>\n",
       "      <th>1</th>\n",
       "      <td>1111 N HUMBOLDT</td>\n",
       "      <td>CHI010</td>\n",
       "      <td>4/25/15</td>\n",
       "      <td>71</td>\n",
       "      <td>NaN</td>\n",
       "      <td>NaN</td>\n",
       "      <td>NaN</td>\n",
       "      <td>NaN</td>\n",
       "      <td>NaN</td>\n",
       "    </tr>\n",
       "    <tr>\n",
       "      <th>2</th>\n",
       "      <td>1111 N HUMBOLDT</td>\n",
       "      <td>CHI010</td>\n",
       "      <td>4/14/15</td>\n",
       "      <td>38</td>\n",
       "      <td>NaN</td>\n",
       "      <td>NaN</td>\n",
       "      <td>NaN</td>\n",
       "      <td>NaN</td>\n",
       "      <td>NaN</td>\n",
       "    </tr>\n",
       "    <tr>\n",
       "      <th>3</th>\n",
       "      <td>1111 N HUMBOLDT</td>\n",
       "      <td>CHI010</td>\n",
       "      <td>4/16/15</td>\n",
       "      <td>55</td>\n",
       "      <td>NaN</td>\n",
       "      <td>NaN</td>\n",
       "      <td>NaN</td>\n",
       "      <td>NaN</td>\n",
       "      <td>NaN</td>\n",
       "    </tr>\n",
       "    <tr>\n",
       "      <th>4</th>\n",
       "      <td>1111 N HUMBOLDT</td>\n",
       "      <td>CHI010</td>\n",
       "      <td>4/24/15</td>\n",
       "      <td>54</td>\n",
       "      <td>NaN</td>\n",
       "      <td>NaN</td>\n",
       "      <td>NaN</td>\n",
       "      <td>NaN</td>\n",
       "      <td>NaN</td>\n",
       "    </tr>\n",
       "  </tbody>\n",
       "</table>\n",
       "</div>"
      ],
      "text/plain": [
       "           ADDRESS CAMERA ID VIOLATION DATE  VIOLATIONS  X COORDINATE  \\\n",
       "0  1111 N HUMBOLDT    CHI010        4/10/15          67           NaN   \n",
       "1  1111 N HUMBOLDT    CHI010        4/25/15          71           NaN   \n",
       "2  1111 N HUMBOLDT    CHI010        4/14/15          38           NaN   \n",
       "3  1111 N HUMBOLDT    CHI010        4/16/15          55           NaN   \n",
       "4  1111 N HUMBOLDT    CHI010        4/24/15          54           NaN   \n",
       "\n",
       "   Y COORDINATE  LATITUDE  LONGITUDE LOCATION  \n",
       "0           NaN       NaN        NaN      NaN  \n",
       "1           NaN       NaN        NaN      NaN  \n",
       "2           NaN       NaN        NaN      NaN  \n",
       "3           NaN       NaN        NaN      NaN  \n",
       "4           NaN       NaN        NaN      NaN  "
      ]
     },
     "execution_count": 4,
     "metadata": {},
     "output_type": "execute_result"
    }
   ],
   "source": [
    "speed_data_df.head()"
   ]
  },
  {
   "cell_type": "code",
   "execution_count": 5,
   "metadata": {},
   "outputs": [],
   "source": [
    "speed_data_df[\"violation_date_as_date\"] = pd.to_datetime(speed_data_df[\"VIOLATION DATE\"])"
   ]
  },
  {
   "cell_type": "code",
   "execution_count": 6,
   "metadata": {},
   "outputs": [],
   "source": [
    "feb_start_date = \"2020-02-01\"\n",
    "feb_end_date = \"2020-02-29\""
   ]
  },
  {
   "cell_type": "code",
   "execution_count": 7,
   "metadata": {},
   "outputs": [],
   "source": [
    "feb_2020_df = speed_data_df.loc[(speed_data_df[\"violation_date_as_date\"] > feb_start_date) & \n",
    "                                (speed_data_df[\"violation_date_as_date\"] <= feb_end_date)]"
   ]
  },
  {
   "cell_type": "code",
   "execution_count": 8,
   "metadata": {},
   "outputs": [
    {
     "data": {
      "text/html": [
       "<div>\n",
       "<style scoped>\n",
       "    .dataframe tbody tr th:only-of-type {\n",
       "        vertical-align: middle;\n",
       "    }\n",
       "\n",
       "    .dataframe tbody tr th {\n",
       "        vertical-align: top;\n",
       "    }\n",
       "\n",
       "    .dataframe thead th {\n",
       "        text-align: right;\n",
       "    }\n",
       "</style>\n",
       "<table border=\"1\" class=\"dataframe\">\n",
       "  <thead>\n",
       "    <tr style=\"text-align: right;\">\n",
       "      <th></th>\n",
       "      <th>ADDRESS</th>\n",
       "      <th>CAMERA ID</th>\n",
       "      <th>VIOLATION DATE</th>\n",
       "      <th>VIOLATIONS</th>\n",
       "      <th>X COORDINATE</th>\n",
       "      <th>Y COORDINATE</th>\n",
       "      <th>LATITUDE</th>\n",
       "      <th>LONGITUDE</th>\n",
       "      <th>LOCATION</th>\n",
       "      <th>violation_date_as_date</th>\n",
       "    </tr>\n",
       "  </thead>\n",
       "  <tbody>\n",
       "    <tr>\n",
       "      <th>8362</th>\n",
       "      <td>2705 W IRVING PARK</td>\n",
       "      <td>CHI079</td>\n",
       "      <td>2/23/20</td>\n",
       "      <td>88</td>\n",
       "      <td>1157555.243</td>\n",
       "      <td>1926426.211</td>\n",
       "      <td>41.953875</td>\n",
       "      <td>-87.696204</td>\n",
       "      <td>(41.95387526461699, -87.69620408862693)</td>\n",
       "      <td>2020-02-23</td>\n",
       "    </tr>\n",
       "    <tr>\n",
       "      <th>8388</th>\n",
       "      <td>2712 W IRVING PARK</td>\n",
       "      <td>CHI080</td>\n",
       "      <td>2/23/20</td>\n",
       "      <td>11</td>\n",
       "      <td>1157447.914</td>\n",
       "      <td>1926504.637</td>\n",
       "      <td>41.954093</td>\n",
       "      <td>-87.696596</td>\n",
       "      <td>(41.954092657149786, -87.6965965016668)</td>\n",
       "      <td>2020-02-23</td>\n",
       "    </tr>\n",
       "    <tr>\n",
       "      <th>42324</th>\n",
       "      <td>9618 S EWING AVE</td>\n",
       "      <td>CHI142</td>\n",
       "      <td>2/2/20</td>\n",
       "      <td>13</td>\n",
       "      <td>1202074.877</td>\n",
       "      <td>1841844.577</td>\n",
       "      <td>41.720757</td>\n",
       "      <td>-87.535437</td>\n",
       "      <td>(41.72075680558273, -87.53543678735923)</td>\n",
       "      <td>2020-02-02</td>\n",
       "    </tr>\n",
       "    <tr>\n",
       "      <th>42325</th>\n",
       "      <td>3535 E 95TH ST</td>\n",
       "      <td>CHI140</td>\n",
       "      <td>2/2/20</td>\n",
       "      <td>5</td>\n",
       "      <td>1201486.256</td>\n",
       "      <td>1842590.389</td>\n",
       "      <td>41.722818</td>\n",
       "      <td>-87.537567</td>\n",
       "      <td>(41.722818322421595, -87.53756746533104)</td>\n",
       "      <td>2020-02-02</td>\n",
       "    </tr>\n",
       "    <tr>\n",
       "      <th>42328</th>\n",
       "      <td>3100 W AUGUSTA</td>\n",
       "      <td>CHI011</td>\n",
       "      <td>2/2/20</td>\n",
       "      <td>39</td>\n",
       "      <td>1155438.363</td>\n",
       "      <td>1906531.351</td>\n",
       "      <td>41.899325</td>\n",
       "      <td>-87.704522</td>\n",
       "      <td>(41.89932514072566, -87.70452234551168)</td>\n",
       "      <td>2020-02-02</td>\n",
       "    </tr>\n",
       "  </tbody>\n",
       "</table>\n",
       "</div>"
      ],
      "text/plain": [
       "                  ADDRESS CAMERA ID VIOLATION DATE  VIOLATIONS  X COORDINATE  \\\n",
       "8362   2705 W IRVING PARK    CHI079        2/23/20          88   1157555.243   \n",
       "8388   2712 W IRVING PARK    CHI080        2/23/20          11   1157447.914   \n",
       "42324    9618 S EWING AVE    CHI142         2/2/20          13   1202074.877   \n",
       "42325      3535 E 95TH ST    CHI140         2/2/20           5   1201486.256   \n",
       "42328      3100 W AUGUSTA    CHI011         2/2/20          39   1155438.363   \n",
       "\n",
       "       Y COORDINATE   LATITUDE  LONGITUDE  \\\n",
       "8362    1926426.211  41.953875 -87.696204   \n",
       "8388    1926504.637  41.954093 -87.696596   \n",
       "42324   1841844.577  41.720757 -87.535437   \n",
       "42325   1842590.389  41.722818 -87.537567   \n",
       "42328   1906531.351  41.899325 -87.704522   \n",
       "\n",
       "                                       LOCATION violation_date_as_date  \n",
       "8362    (41.95387526461699, -87.69620408862693)             2020-02-23  \n",
       "8388    (41.954092657149786, -87.6965965016668)             2020-02-23  \n",
       "42324   (41.72075680558273, -87.53543678735923)             2020-02-02  \n",
       "42325  (41.722818322421595, -87.53756746533104)             2020-02-02  \n",
       "42328   (41.89932514072566, -87.70452234551168)             2020-02-02  "
      ]
     },
     "execution_count": 8,
     "metadata": {},
     "output_type": "execute_result"
    }
   ],
   "source": [
    "feb_2020_df.head()"
   ]
  },
  {
   "cell_type": "code",
   "execution_count": 9,
   "metadata": {},
   "outputs": [
    {
     "data": {
      "text/plain": [
       "64970"
      ]
     },
     "execution_count": 9,
     "metadata": {},
     "output_type": "execute_result"
    }
   ],
   "source": [
    "feb_2020_df[\"VIOLATIONS\"].sum()"
   ]
  },
  {
   "cell_type": "code",
   "execution_count": 10,
   "metadata": {},
   "outputs": [],
   "source": [
    "nov_19_start_date = \"2019-11-01\"\n",
    "nov_19_end_date = \"2019-11-30\""
   ]
  },
  {
   "cell_type": "code",
   "execution_count": 11,
   "metadata": {},
   "outputs": [],
   "source": [
    "nov_2019_df = speed_data_df.loc[(speed_data_df[\"violation_date_as_date\"] > nov_19_start_date) & (speed_data_df[\"violation_date_as_date\"] <= nov_19_end_date)]"
   ]
  },
  {
   "cell_type": "code",
   "execution_count": 12,
   "metadata": {},
   "outputs": [
    {
     "data": {
      "text/plain": [
       "63181"
      ]
     },
     "execution_count": 12,
     "metadata": {},
     "output_type": "execute_result"
    }
   ],
   "source": [
    "nov_2019_df[\"VIOLATIONS\"].sum()"
   ]
  },
  {
   "cell_type": "code",
   "execution_count": 13,
   "metadata": {},
   "outputs": [],
   "source": [
    "jan_start_date = \"2020-01-01\"\n",
    "jan_end_date = \"2020-01-31\"\n",
    "mar_start_date = \"2020-03-01\"\n",
    "mar_end_date = \"2020-03-31\"\n",
    "apr_start_date = \"2020-04-01\"\n",
    "apr_end_date = \"2020-04-30\"\n",
    "june_start_date = \"2020-06-01\"\n",
    "june_end_date = \"2020-06-30\"\n",
    "july_start_date = \"2020-07-01\"\n",
    "july_end_date = \"2020-07-31\"\n",
    "aug_start_date = \"2020-08-01\"\n",
    "aug_end_date = \"2020-08-31\"\n",
    "oct_start_date = \"2020-10-01\"\n",
    "oct_end_date = \"2020-10-31\"\n",
    "nov_start_date = \"2020-11-01\"\n",
    "nov_end_date = \"2020-11-30\"\n",
    "dec_start_date = \"2020-12-01\"\n",
    "dec_end_date = \"2020-12-31\"\n",
    "jan_21_start_date = \"2021-01-01\"\n",
    "jan_21_end_date = \"2021-01-31\""
   ]
  },
  {
   "cell_type": "code",
   "execution_count": 14,
   "metadata": {},
   "outputs": [],
   "source": [
    "jan_2020_df = speed_data_df.loc[(speed_data_df[\"violation_date_as_date\"] > jan_start_date) & (speed_data_df[\"violation_date_as_date\"] <= jan_end_date)]"
   ]
  },
  {
   "cell_type": "code",
   "execution_count": 15,
   "metadata": {},
   "outputs": [
    {
     "data": {
      "text/plain": [
       "58451"
      ]
     },
     "execution_count": 15,
     "metadata": {},
     "output_type": "execute_result"
    }
   ],
   "source": [
    "jan_2020_df[\"VIOLATIONS\"].sum()"
   ]
  },
  {
   "cell_type": "code",
   "execution_count": 16,
   "metadata": {},
   "outputs": [],
   "source": [
    "mar_2020_df = speed_data_df.loc[(speed_data_df[\"violation_date_as_date\"] > mar_start_date) & (speed_data_df[\"violation_date_as_date\"] <= mar_end_date)]"
   ]
  },
  {
   "cell_type": "code",
   "execution_count": 17,
   "metadata": {},
   "outputs": [
    {
     "data": {
      "text/plain": [
       "71898"
      ]
     },
     "execution_count": 17,
     "metadata": {},
     "output_type": "execute_result"
    }
   ],
   "source": [
    "mar_2020_df[\"VIOLATIONS\"].sum()"
   ]
  },
  {
   "cell_type": "code",
   "execution_count": 18,
   "metadata": {},
   "outputs": [],
   "source": [
    "apr_2020_df = speed_data_df.loc[(speed_data_df[\"violation_date_as_date\"] > apr_start_date) & (speed_data_df[\"violation_date_as_date\"] <= apr_end_date)]"
   ]
  },
  {
   "cell_type": "code",
   "execution_count": 19,
   "metadata": {},
   "outputs": [
    {
     "data": {
      "text/plain": [
       "64303"
      ]
     },
     "execution_count": 19,
     "metadata": {},
     "output_type": "execute_result"
    }
   ],
   "source": [
    "apr_2020_df[\"VIOLATIONS\"].sum()"
   ]
  },
  {
   "cell_type": "code",
   "execution_count": 20,
   "metadata": {},
   "outputs": [],
   "source": [
    "may_start_date = \"2020-05-01\"\n",
    "may_end_date = \"2020-05-31\""
   ]
  },
  {
   "cell_type": "code",
   "execution_count": 21,
   "metadata": {},
   "outputs": [],
   "source": [
    "may_2020_df = speed_data_df.loc[(speed_data_df[\"violation_date_as_date\"] > may_start_date) & (speed_data_df[\"violation_date_as_date\"] <= may_end_date)]"
   ]
  },
  {
   "cell_type": "code",
   "execution_count": 22,
   "metadata": {},
   "outputs": [
    {
     "data": {
      "text/plain": [
       "62554"
      ]
     },
     "execution_count": 22,
     "metadata": {},
     "output_type": "execute_result"
    }
   ],
   "source": [
    "may_2020_df[\"VIOLATIONS\"].sum()"
   ]
  },
  {
   "cell_type": "code",
   "execution_count": 23,
   "metadata": {},
   "outputs": [],
   "source": [
    "june_2020_df = speed_data_df.loc[(speed_data_df[\"violation_date_as_date\"] > june_start_date) & (speed_data_df[\"violation_date_as_date\"] <= june_end_date)]"
   ]
  },
  {
   "cell_type": "code",
   "execution_count": 24,
   "metadata": {},
   "outputs": [
    {
     "data": {
      "text/plain": [
       "64591"
      ]
     },
     "execution_count": 24,
     "metadata": {},
     "output_type": "execute_result"
    }
   ],
   "source": [
    "june_2020_df[\"VIOLATIONS\"].sum()"
   ]
  },
  {
   "cell_type": "code",
   "execution_count": 25,
   "metadata": {},
   "outputs": [],
   "source": [
    "july_2020_df = speed_data_df.loc[(speed_data_df[\"violation_date_as_date\"] > july_start_date) & (speed_data_df[\"violation_date_as_date\"] <= july_end_date)]"
   ]
  },
  {
   "cell_type": "code",
   "execution_count": 26,
   "metadata": {},
   "outputs": [
    {
     "data": {
      "text/plain": [
       "71562"
      ]
     },
     "execution_count": 26,
     "metadata": {},
     "output_type": "execute_result"
    }
   ],
   "source": [
    "july_2020_df[\"VIOLATIONS\"].sum()"
   ]
  },
  {
   "cell_type": "code",
   "execution_count": 27,
   "metadata": {},
   "outputs": [],
   "source": [
    "aug_2020_df = speed_data_df.loc[(speed_data_df[\"violation_date_as_date\"] > aug_start_date) & (speed_data_df[\"violation_date_as_date\"] <= aug_end_date)]"
   ]
  },
  {
   "cell_type": "code",
   "execution_count": 28,
   "metadata": {},
   "outputs": [
    {
     "data": {
      "text/plain": [
       "67697"
      ]
     },
     "execution_count": 28,
     "metadata": {},
     "output_type": "execute_result"
    }
   ],
   "source": [
    "aug_2020_df[\"VIOLATIONS\"].sum()"
   ]
  },
  {
   "cell_type": "code",
   "execution_count": 29,
   "metadata": {},
   "outputs": [],
   "source": [
    "sep_start_date = \"2020-09-01\"\n",
    "sep_end_date = \"2020-09-30\""
   ]
  },
  {
   "cell_type": "code",
   "execution_count": 30,
   "metadata": {},
   "outputs": [],
   "source": [
    "sep_2020_df = speed_data_df.loc[(speed_data_df[\"violation_date_as_date\"] > sep_start_date) & (speed_data_df[\"violation_date_as_date\"] <= sep_end_date)]"
   ]
  },
  {
   "cell_type": "code",
   "execution_count": 31,
   "metadata": {},
   "outputs": [
    {
     "data": {
      "text/plain": [
       "63822"
      ]
     },
     "execution_count": 31,
     "metadata": {},
     "output_type": "execute_result"
    }
   ],
   "source": [
    "sep_2020_df[\"VIOLATIONS\"].sum()"
   ]
  },
  {
   "cell_type": "code",
   "execution_count": 32,
   "metadata": {},
   "outputs": [],
   "source": [
    "oct_2020_df = speed_data_df.loc[(speed_data_df[\"violation_date_as_date\"] > oct_start_date) & (speed_data_df[\"violation_date_as_date\"] <= oct_end_date)]"
   ]
  },
  {
   "cell_type": "code",
   "execution_count": 33,
   "metadata": {},
   "outputs": [
    {
     "data": {
      "text/plain": [
       "62747"
      ]
     },
     "execution_count": 33,
     "metadata": {},
     "output_type": "execute_result"
    }
   ],
   "source": [
    "oct_2020_df[\"VIOLATIONS\"].sum()"
   ]
  },
  {
   "cell_type": "code",
   "execution_count": 34,
   "metadata": {},
   "outputs": [],
   "source": [
    "nov_2020_df = speed_data_df.loc[(speed_data_df[\"violation_date_as_date\"] > nov_start_date) & (speed_data_df[\"violation_date_as_date\"] <= nov_end_date)]"
   ]
  },
  {
   "cell_type": "code",
   "execution_count": 35,
   "metadata": {},
   "outputs": [
    {
     "data": {
      "text/plain": [
       "59097"
      ]
     },
     "execution_count": 35,
     "metadata": {},
     "output_type": "execute_result"
    }
   ],
   "source": [
    "nov_2020_df[\"VIOLATIONS\"].sum()"
   ]
  },
  {
   "cell_type": "code",
   "execution_count": 36,
   "metadata": {},
   "outputs": [],
   "source": [
    "dec_2020_df = speed_data_df.loc[(speed_data_df[\"violation_date_as_date\"] > dec_start_date) & (speed_data_df[\"violation_date_as_date\"] <= dec_end_date)]"
   ]
  },
  {
   "cell_type": "code",
   "execution_count": 37,
   "metadata": {},
   "outputs": [
    {
     "data": {
      "text/plain": [
       "63519"
      ]
     },
     "execution_count": 37,
     "metadata": {},
     "output_type": "execute_result"
    }
   ],
   "source": [
    "dec_2020_df[\"VIOLATIONS\"].sum()"
   ]
  },
  {
   "cell_type": "code",
   "execution_count": 38,
   "metadata": {},
   "outputs": [],
   "source": [
    "jan_2021_df = speed_data_df.loc[(speed_data_df[\"violation_date_as_date\"] > jan_21_start_date) & (speed_data_df[\"violation_date_as_date\"] <= jan_21_end_date)]"
   ]
  },
  {
   "cell_type": "code",
   "execution_count": 39,
   "metadata": {},
   "outputs": [
    {
     "data": {
      "text/plain": [
       "44199"
      ]
     },
     "execution_count": 39,
     "metadata": {},
     "output_type": "execute_result"
    }
   ],
   "source": [
    "jan_2021_df[\"VIOLATIONS\"].sum()"
   ]
  },
  {
   "cell_type": "code",
   "execution_count": 40,
   "metadata": {},
   "outputs": [],
   "source": [
    "feb_21_start_date = \"2021-02-01\"\n",
    "feb_21_end_date = \"2021-02-28\""
   ]
  },
  {
   "cell_type": "code",
   "execution_count": 41,
   "metadata": {},
   "outputs": [],
   "source": [
    "feb_2021_df = speed_data_df.loc[(speed_data_df[\"violation_date_as_date\"] > feb_21_start_date) & (speed_data_df[\"violation_date_as_date\"] <= feb_21_end_date)]"
   ]
  },
  {
   "cell_type": "code",
   "execution_count": 42,
   "metadata": {},
   "outputs": [
    {
     "data": {
      "text/html": [
       "<div>\n",
       "<style scoped>\n",
       "    .dataframe tbody tr th:only-of-type {\n",
       "        vertical-align: middle;\n",
       "    }\n",
       "\n",
       "    .dataframe tbody tr th {\n",
       "        vertical-align: top;\n",
       "    }\n",
       "\n",
       "    .dataframe thead th {\n",
       "        text-align: right;\n",
       "    }\n",
       "</style>\n",
       "<table border=\"1\" class=\"dataframe\">\n",
       "  <thead>\n",
       "    <tr style=\"text-align: right;\">\n",
       "      <th></th>\n",
       "      <th>ADDRESS</th>\n",
       "      <th>CAMERA ID</th>\n",
       "      <th>VIOLATION DATE</th>\n",
       "      <th>VIOLATIONS</th>\n",
       "      <th>X COORDINATE</th>\n",
       "      <th>Y COORDINATE</th>\n",
       "      <th>LATITUDE</th>\n",
       "      <th>LONGITUDE</th>\n",
       "      <th>LOCATION</th>\n",
       "      <th>violation_date_as_date</th>\n",
       "    </tr>\n",
       "  </thead>\n",
       "  <tbody>\n",
       "    <tr>\n",
       "      <th>239859</th>\n",
       "      <td>5529 S WESTERN</td>\n",
       "      <td>CHI068</td>\n",
       "      <td>2/10/21</td>\n",
       "      <td>2</td>\n",
       "      <td>NaN</td>\n",
       "      <td>NaN</td>\n",
       "      <td>NaN</td>\n",
       "      <td>NaN</td>\n",
       "      <td>NaN</td>\n",
       "      <td>2021-02-10</td>\n",
       "    </tr>\n",
       "    <tr>\n",
       "      <th>239860</th>\n",
       "      <td>4843 W FULLERTON</td>\n",
       "      <td>CHI044</td>\n",
       "      <td>2/10/21</td>\n",
       "      <td>5</td>\n",
       "      <td>1143534.106</td>\n",
       "      <td>1915477.825</td>\n",
       "      <td>41.924106</td>\n",
       "      <td>-87.748023</td>\n",
       "      <td>(41.92410632982652, -87.74802266359677)</td>\n",
       "      <td>2021-02-10</td>\n",
       "    </tr>\n",
       "    <tr>\n",
       "      <th>239861</th>\n",
       "      <td>6250 W FULLERTON</td>\n",
       "      <td>CHI040</td>\n",
       "      <td>2/10/21</td>\n",
       "      <td>4</td>\n",
       "      <td>1134113.482</td>\n",
       "      <td>1915315.344</td>\n",
       "      <td>41.923832</td>\n",
       "      <td>-87.782642</td>\n",
       "      <td>(41.92383169923362, -87.78264224184598)</td>\n",
       "      <td>2021-02-10</td>\n",
       "    </tr>\n",
       "    <tr>\n",
       "      <th>239862</th>\n",
       "      <td>2080 W PERSHING</td>\n",
       "      <td>CHI005</td>\n",
       "      <td>2/10/21</td>\n",
       "      <td>2</td>\n",
       "      <td>1163048.143</td>\n",
       "      <td>1878842.851</td>\n",
       "      <td>41.823189</td>\n",
       "      <td>-87.677349</td>\n",
       "      <td>(41.823188824691925, -87.67734879498818)</td>\n",
       "      <td>2021-02-10</td>\n",
       "    </tr>\n",
       "    <tr>\n",
       "      <th>239863</th>\n",
       "      <td>6909 S KEDZIE</td>\n",
       "      <td>CHI014</td>\n",
       "      <td>2/10/21</td>\n",
       "      <td>18</td>\n",
       "      <td>1156276.175</td>\n",
       "      <td>1858582.894</td>\n",
       "      <td>41.767732</td>\n",
       "      <td>-87.702738</td>\n",
       "      <td>(41.76773186901884, -87.70273790708362)</td>\n",
       "      <td>2021-02-10</td>\n",
       "    </tr>\n",
       "  </tbody>\n",
       "</table>\n",
       "</div>"
      ],
      "text/plain": [
       "                 ADDRESS CAMERA ID VIOLATION DATE  VIOLATIONS  X COORDINATE  \\\n",
       "239859    5529 S WESTERN    CHI068        2/10/21           2           NaN   \n",
       "239860  4843 W FULLERTON    CHI044        2/10/21           5   1143534.106   \n",
       "239861  6250 W FULLERTON    CHI040        2/10/21           4   1134113.482   \n",
       "239862   2080 W PERSHING    CHI005        2/10/21           2   1163048.143   \n",
       "239863     6909 S KEDZIE    CHI014        2/10/21          18   1156276.175   \n",
       "\n",
       "        Y COORDINATE   LATITUDE  LONGITUDE  \\\n",
       "239859           NaN        NaN        NaN   \n",
       "239860   1915477.825  41.924106 -87.748023   \n",
       "239861   1915315.344  41.923832 -87.782642   \n",
       "239862   1878842.851  41.823189 -87.677349   \n",
       "239863   1858582.894  41.767732 -87.702738   \n",
       "\n",
       "                                        LOCATION violation_date_as_date  \n",
       "239859                                       NaN             2021-02-10  \n",
       "239860   (41.92410632982652, -87.74802266359677)             2021-02-10  \n",
       "239861   (41.92383169923362, -87.78264224184598)             2021-02-10  \n",
       "239862  (41.823188824691925, -87.67734879498818)             2021-02-10  \n",
       "239863   (41.76773186901884, -87.70273790708362)             2021-02-10  "
      ]
     },
     "execution_count": 42,
     "metadata": {},
     "output_type": "execute_result"
    }
   ],
   "source": [
    "feb_2021_df.head()"
   ]
  },
  {
   "cell_type": "code",
   "execution_count": 43,
   "metadata": {},
   "outputs": [
    {
     "data": {
      "text/plain": [
       "9365"
      ]
     },
     "execution_count": 43,
     "metadata": {},
     "output_type": "execute_result"
    }
   ],
   "source": [
    "feb_2021_df[\"VIOLATIONS\"].sum()"
   ]
  },
  {
   "cell_type": "code",
   "execution_count": 44,
   "metadata": {},
   "outputs": [
    {
     "data": {
      "text/plain": [
       "893"
      ]
     },
     "execution_count": 44,
     "metadata": {},
     "output_type": "execute_result"
    }
   ],
   "source": [
    "feb_2021_df[\"CAMERA ID\"].count()"
   ]
  },
  {
   "cell_type": "code",
   "execution_count": 45,
   "metadata": {},
   "outputs": [],
   "source": [
    "jul_17_start_date = \"2017-7-01\"\n",
    "jul_17_end_date = \"2017-7-31\""
   ]
  },
  {
   "cell_type": "code",
   "execution_count": 46,
   "metadata": {},
   "outputs": [],
   "source": [
    "jul_17_df = speed_data_df.loc[(speed_data_df[\"violation_date_as_date\"] > jul_17_start_date) & (speed_data_df[\"violation_date_as_date\"] <= jul_17_end_date)]"
   ]
  },
  {
   "cell_type": "code",
   "execution_count": 47,
   "metadata": {},
   "outputs": [
    {
     "data": {
      "text/plain": [
       "84507"
      ]
     },
     "execution_count": 47,
     "metadata": {},
     "output_type": "execute_result"
    }
   ],
   "source": [
    "jul_17_df[\"VIOLATIONS\"].sum()"
   ]
  },
  {
   "cell_type": "code",
   "execution_count": 48,
   "metadata": {},
   "outputs": [],
   "source": [
    "jul_18_start_date = \"2018-7-01\"\n",
    "jul_18_end_date = \"2018-7-31\""
   ]
  },
  {
   "cell_type": "code",
   "execution_count": 49,
   "metadata": {},
   "outputs": [],
   "source": [
    "jul_18_df = speed_data_df.loc[(speed_data_df[\"violation_date_as_date\"] > jul_18_start_date) & (speed_data_df[\"violation_date_as_date\"] <= jul_18_end_date)]"
   ]
  },
  {
   "cell_type": "code",
   "execution_count": 50,
   "metadata": {},
   "outputs": [
    {
     "data": {
      "text/plain": [
       "73703"
      ]
     },
     "execution_count": 50,
     "metadata": {},
     "output_type": "execute_result"
    }
   ],
   "source": [
    "jul_18_df[\"VIOLATIONS\"].sum()"
   ]
  },
  {
   "cell_type": "code",
   "execution_count": 55,
   "metadata": {},
   "outputs": [],
   "source": [
    "Months_in_2020 = [\"January\", \"February\", \"March\", \"April\", \"May\", \"June\",\n",
    "                \"July\",\"August\", \"September\", \"October\", \"November\", \"December\"]\n",
    "number_speed_violations = [58451, 64970, 71898, 64303, 62554, 64591, 71562, 67697, 63822, 62747, 59097, 63519]\n",
    "x_axis = np.arange(len(number_speed_violations))\n",
    "x_axis = Months_in_2020"
   ]
  },
  {
   "cell_type": "code",
   "execution_count": 56,
   "metadata": {},
   "outputs": [
    {
     "data": {
      "text/plain": [
       "<BarContainer object of 12 artists>"
      ]
     },
     "execution_count": 56,
     "metadata": {},
     "output_type": "execute_result"
    },
    {
     "data": {
      "image/png": "[encoded data removed]",
      "text/plain": [
       "<Figure size 432x288 with 1 Axes>"
      ]
     },
     "metadata": {
      "needs_background": "light"
     },
     "output_type": "display_data"
    }
   ],
   "source": [
    "#bar plot generation\n",
    "plt.xticks(rotation = 45)\n",
    "plt.title(\"Chicago Speed Violations in 2020\")\n",
    "plt.xlabel(\"Months in 2020\")\n",
    "plt.ylabel(\"Number of Speed Violations\")\n",
    "plt.bar(x_axis, number_speed_violations, color=\"b\", align=\"center\")"
   ]
  },
  {
   "cell_type": "code",
   "execution_count": null,
   "metadata": {},
   "outputs": [],
   "source": []
  }
 ],
 "metadata": {
  "kernelspec": {
   "display_name": "Python 3",
   "language": "python",
   "name": "python3"
  },
  "language_info": {
   "codemirror_mode": {
    "name": "ipython",
    "version": 3
   },
   "file_extension": ".py",
   "mimetype": "text/x-python",
   "name": "python",
   "nbconvert_exporter": "python",
   "pygments_lexer": "ipython3",
   "version": "3.8.5"
  }
 },
 "nbformat": 4,
 "nbformat_minor": 4
}
