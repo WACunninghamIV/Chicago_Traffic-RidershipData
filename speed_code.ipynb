{
 "cells": [
  {
   "cell_type": "code",
   "execution_count": 3,
   "metadata": {},
   "outputs": [],
   "source": [
    "import pandas as pd\n",
    "import matplotlib.pyplot as plt\n",
    "import numpy as np\n",
    "import datetime"
   ]
  },
  {
   "cell_type": "code",
   "execution_count": 4,
   "metadata": {},
   "outputs": [],
   "source": [
    "# Store filepath in a variable\n",
    "speed_data = \"Resources/Speed_Camera_Violations 2.csv\""
   ]
  },
  {
   "cell_type": "code",
   "execution_count": 5,
   "metadata": {},
   "outputs": [],
   "source": [
    "speed_data_df = pd.read_csv(speed_data, encoding=\"UTF-8\")"
   ]
  },
  {
   "cell_type": "code",
   "execution_count": 6,
   "metadata": {},
   "outputs": [
    {
     "data": {
      "text/html": [
       "<div>\n",
       "<style scoped>\n",
       "    .dataframe tbody tr th:only-of-type {\n",
       "        vertical-align: middle;\n",
       "    }\n",
       "\n",
       "    .dataframe tbody tr th {\n",
       "        vertical-align: top;\n",
       "    }\n",
       "\n",
       "    .dataframe thead th {\n",
       "        text-align: right;\n",
       "    }\n",
       "</style>\n",
       "<table border=\"1\" class=\"dataframe\">\n",
       "  <thead>\n",
       "    <tr style=\"text-align: right;\">\n",
       "      <th></th>\n",
       "      <th>ADDRESS</th>\n",
       "      <th>CAMERA ID</th>\n",
       "      <th>VIOLATION DATE</th>\n",
       "      <th>VIOLATIONS</th>\n",
       "      <th>X COORDINATE</th>\n",
       "      <th>Y COORDINATE</th>\n",
       "      <th>LATITUDE</th>\n",
       "      <th>LONGITUDE</th>\n",
       "      <th>LOCATION</th>\n",
       "    </tr>\n",
       "  </thead>\n",
       "  <tbody>\n",
       "    <tr>\n",
       "      <th>0</th>\n",
       "      <td>1111 N HUMBOLDT</td>\n",
       "      <td>CHI010</td>\n",
       "      <td>4/10/15</td>\n",
       "      <td>67</td>\n",
       "      <td>NaN</td>\n",
       "      <td>NaN</td>\n",
       "      <td>NaN</td>\n",
       "      <td>NaN</td>\n",
       "      <td>NaN</td>\n",
       "    </tr>\n",
       "    <tr>\n",
       "      <th>1</th>\n",
       "      <td>1111 N HUMBOLDT</td>\n",
       "      <td>CHI010</td>\n",
       "      <td>4/25/15</td>\n",
       "      <td>71</td>\n",
       "      <td>NaN</td>\n",
       "      <td>NaN</td>\n",
       "      <td>NaN</td>\n",
       "      <td>NaN</td>\n",
       "      <td>NaN</td>\n",
       "    </tr>\n",
       "    <tr>\n",
       "      <th>2</th>\n",
       "      <td>1111 N HUMBOLDT</td>\n",
       "      <td>CHI010</td>\n",
       "      <td>4/14/15</td>\n",
       "      <td>38</td>\n",
       "      <td>NaN</td>\n",
       "      <td>NaN</td>\n",
       "      <td>NaN</td>\n",
       "      <td>NaN</td>\n",
       "      <td>NaN</td>\n",
       "    </tr>\n",
       "    <tr>\n",
       "      <th>3</th>\n",
       "      <td>1111 N HUMBOLDT</td>\n",
       "      <td>CHI010</td>\n",
       "      <td>4/16/15</td>\n",
       "      <td>55</td>\n",
       "      <td>NaN</td>\n",
       "      <td>NaN</td>\n",
       "      <td>NaN</td>\n",
       "      <td>NaN</td>\n",
       "      <td>NaN</td>\n",
       "    </tr>\n",
       "    <tr>\n",
       "      <th>4</th>\n",
       "      <td>1111 N HUMBOLDT</td>\n",
       "      <td>CHI010</td>\n",
       "      <td>4/24/15</td>\n",
       "      <td>54</td>\n",
       "      <td>NaN</td>\n",
       "      <td>NaN</td>\n",
       "      <td>NaN</td>\n",
       "      <td>NaN</td>\n",
       "      <td>NaN</td>\n",
       "    </tr>\n",
       "  </tbody>\n",
       "</table>\n",
       "</div>"
      ],
      "text/plain": [
       "           ADDRESS CAMERA ID VIOLATION DATE  VIOLATIONS  X COORDINATE  \\\n",
       "0  1111 N HUMBOLDT    CHI010        4/10/15          67           NaN   \n",
       "1  1111 N HUMBOLDT    CHI010        4/25/15          71           NaN   \n",
       "2  1111 N HUMBOLDT    CHI010        4/14/15          38           NaN   \n",
       "3  1111 N HUMBOLDT    CHI010        4/16/15          55           NaN   \n",
       "4  1111 N HUMBOLDT    CHI010        4/24/15          54           NaN   \n",
       "\n",
       "   Y COORDINATE  LATITUDE  LONGITUDE LOCATION  \n",
       "0           NaN       NaN        NaN      NaN  \n",
       "1           NaN       NaN        NaN      NaN  \n",
       "2           NaN       NaN        NaN      NaN  \n",
       "3           NaN       NaN        NaN      NaN  \n",
       "4           NaN       NaN        NaN      NaN  "
      ]
     },
     "execution_count": 6,
     "metadata": {},
     "output_type": "execute_result"
    }
   ],
   "source": [
    "speed_data_df.head()"
   ]
  },
  {
   "cell_type": "code",
   "execution_count": 7,
   "metadata": {},
   "outputs": [],
   "source": [
    "speed_data_df[\"violation_date_as_date\"] = pd.to_datetime(speed_data_df[\"VIOLATION DATE\"])"
   ]
  },
  {
   "cell_type": "code",
   "execution_count": 13,
   "metadata": {},
   "outputs": [],
   "source": [
    "jan_start_date = \"2020-01-01\"\n",
    "jan_end_date = \"2020-01-31\"\n",
    "feb_start_date = \"2020-02-01\"\n",
    "feb_end_date = \"2020-02-29\"\n",
    "mar_start_date = \"2020-03-01\"\n",
    "mar_end_date = \"2020-03-31\"\n",
    "apr_start_date = \"2020-04-01\"\n",
    "apr_end_date = \"2020-04-30\"\n",
    "may_start_date = \"2020-05-01\"\n",
    "may_end_date = \"2020-05-31\"\n",
    "june_start_date = \"2020-06-01\"\n",
    "june_end_date = \"2020-06-30\"\n",
    "july_start_date = \"2020-07-01\"\n",
    "july_end_date = \"2020-07-31\"\n",
    "aug_start_date = \"2020-08-01\"\n",
    "aug_end_date = \"2020-08-31\"\n",
    "sep_start_date = \"2020-09-01\"\n",
    "sep_end_date = \"2020-09-30\"\n",
    "oct_start_date = \"2020-10-01\"\n",
    "oct_end_date = \"2020-10-31\"\n",
    "nov_start_date = \"2020-11-01\"\n",
    "nov_end_date = \"2020-11-30\"\n",
    "dec_start_date = \"2020-12-01\"\n",
    "dec_end_date = \"2020-12-31\"\n",
    "jan_21_start_date = \"2021-01-01\"\n",
    "jan_21_end_date = \"2021-01-31\""
   ]
  },
  {
   "cell_type": "code",
   "execution_count": 14,
   "metadata": {},
   "outputs": [],
   "source": [
    "jan_2020_df = speed_data_df.loc[(speed_data_df[\"violation_date_as_date\"] > jan_start_date) & (speed_data_df[\"violation_date_as_date\"] <= jan_end_date)]\n",
    "feb_2020_df = speed_data_df.loc[(speed_data_df[\"violation_date_as_date\"] > feb_start_date) & (speed_data_df[\"violation_date_as_date\"] <= feb_end_date)]\n",
    "mar_2020_df = speed_data_df.loc[(speed_data_df[\"violation_date_as_date\"] > mar_start_date) & (speed_data_df[\"violation_date_as_date\"] <= mar_end_date)]\n",
    "apr_2020_df = speed_data_df.loc[(speed_data_df[\"violation_date_as_date\"] > apr_start_date) & (speed_data_df[\"violation_date_as_date\"] <= apr_end_date)]\n",
    "may_2020_df = speed_data_df.loc[(speed_data_df[\"violation_date_as_date\"] > may_start_date) & (speed_data_df[\"violation_date_as_date\"] <= may_end_date)]\n",
    "june_2020_df = speed_data_df.loc[(speed_data_df[\"violation_date_as_date\"] > june_start_date) & (speed_data_df[\"violation_date_as_date\"] <= june_end_date)]\n",
    "july_2020_df = speed_data_df.loc[(speed_data_df[\"violation_date_as_date\"] > july_start_date) & (speed_data_df[\"violation_date_as_date\"] <= july_end_date)]\n",
    "aug_2020_df = speed_data_df.loc[(speed_data_df[\"violation_date_as_date\"] > aug_start_date) & (speed_data_df[\"violation_date_as_date\"] <= aug_end_date)]\n",
    "sep_2020_df = speed_data_df.loc[(speed_data_df[\"violation_date_as_date\"] > sep_start_date) & (speed_data_df[\"violation_date_as_date\"] <= sep_end_date)]\n",
    "oct_2020_df = speed_data_df.loc[(speed_data_df[\"violation_date_as_date\"] > oct_start_date) & (speed_data_df[\"violation_date_as_date\"] <= oct_end_date)]\n",
    "nov_2020_df = speed_data_df.loc[(speed_data_df[\"violation_date_as_date\"] > nov_start_date) & (speed_data_df[\"violation_date_as_date\"] <= nov_end_date)]\n",
    "dec_2020_df = speed_data_df.loc[(speed_data_df[\"violation_date_as_date\"] > dec_start_date) & (speed_data_df[\"violation_date_as_date\"] <= dec_end_date)]"
   ]
  },
  {
   "cell_type": "code",
   "execution_count": 15,
   "metadata": {},
   "outputs": [
    {
     "data": {
      "text/plain": [
       "58451"
      ]
     },
     "execution_count": 15,
     "metadata": {},
     "output_type": "execute_result"
    }
   ],
   "source": [
    "jan_2020_df[\"VIOLATIONS\"].sum()"
   ]
  },
  {
   "cell_type": "code",
   "execution_count": 16,
   "metadata": {},
   "outputs": [
    {
     "data": {
      "text/plain": [
       "64970"
      ]
     },
     "execution_count": 16,
     "metadata": {},
     "output_type": "execute_result"
    }
   ],
   "source": [
    "feb_2020_df[\"VIOLATIONS\"].sum()"
   ]
  },
  {
   "cell_type": "code",
   "execution_count": 17,
   "metadata": {},
   "outputs": [
    {
     "data": {
      "text/plain": [
       "71898"
      ]
     },
     "execution_count": 17,
     "metadata": {},
     "output_type": "execute_result"
    }
   ],
   "source": [
    "mar_2020_df[\"VIOLATIONS\"].sum()"
   ]
  },
  {
   "cell_type": "code",
   "execution_count": 18,
   "metadata": {},
   "outputs": [
    {
     "data": {
      "text/plain": [
       "64303"
      ]
     },
     "execution_count": 18,
     "metadata": {},
     "output_type": "execute_result"
    }
   ],
   "source": [
    "apr_2020_df[\"VIOLATIONS\"].sum()"
   ]
  },
  {
   "cell_type": "code",
   "execution_count": 19,
   "metadata": {},
   "outputs": [
    {
     "data": {
      "text/plain": [
       "62554"
      ]
     },
     "execution_count": 19,
     "metadata": {},
     "output_type": "execute_result"
    }
   ],
   "source": [
    "may_2020_df[\"VIOLATIONS\"].sum()"
   ]
  },
  {
   "cell_type": "code",
   "execution_count": 20,
   "metadata": {},
   "outputs": [
    {
     "data": {
      "text/plain": [
       "64591"
      ]
     },
     "execution_count": 20,
     "metadata": {},
     "output_type": "execute_result"
    }
   ],
   "source": [
    "june_2020_df[\"VIOLATIONS\"].sum()"
   ]
  },
  {
   "cell_type": "code",
   "execution_count": 21,
   "metadata": {},
   "outputs": [
    {
     "data": {
      "text/plain": [
       "71562"
      ]
     },
     "execution_count": 21,
     "metadata": {},
     "output_type": "execute_result"
    }
   ],
   "source": [
    "july_2020_df[\"VIOLATIONS\"].sum()"
   ]
  },
  {
   "cell_type": "code",
   "execution_count": 22,
   "metadata": {},
   "outputs": [
    {
     "data": {
      "text/plain": [
       "67697"
      ]
     },
     "execution_count": 22,
     "metadata": {},
     "output_type": "execute_result"
    }
   ],
   "source": [
    "aug_2020_df[\"VIOLATIONS\"].sum()"
   ]
  },
  {
   "cell_type": "code",
   "execution_count": 23,
   "metadata": {},
   "outputs": [
    {
     "data": {
      "text/plain": [
       "63822"
      ]
     },
     "execution_count": 23,
     "metadata": {},
     "output_type": "execute_result"
    }
   ],
   "source": [
    "sep_2020_df[\"VIOLATIONS\"].sum()"
   ]
  },
  {
   "cell_type": "code",
   "execution_count": 24,
   "metadata": {},
   "outputs": [
    {
     "data": {
      "text/plain": [
       "62747"
      ]
     },
     "execution_count": 24,
     "metadata": {},
     "output_type": "execute_result"
    }
   ],
   "source": [
    "oct_2020_df[\"VIOLATIONS\"].sum()"
   ]
  },
  {
   "cell_type": "code",
   "execution_count": 25,
   "metadata": {},
   "outputs": [
    {
     "data": {
      "text/plain": [
       "59097"
      ]
     },
     "execution_count": 25,
     "metadata": {},
     "output_type": "execute_result"
    }
   ],
   "source": [
    "nov_2020_df[\"VIOLATIONS\"].sum()"
   ]
  },
  {
   "cell_type": "code",
   "execution_count": 26,
   "metadata": {},
   "outputs": [
    {
     "data": {
      "text/plain": [
       "63519"
      ]
     },
     "execution_count": 26,
     "metadata": {},
     "output_type": "execute_result"
    }
   ],
   "source": [
    "dec_2020_df[\"VIOLATIONS\"].sum()"
   ]
  },
  {
   "cell_type": "code",
   "execution_count": 27,
   "metadata": {},
   "outputs": [],
   "source": [
    "Months_in_2020 = [\"January\", \"February\", \"March\", \"April\", \"May\", \"June\",\n",
    "                \"July\",\"August\", \"September\", \"October\", \"November\", \"December\"]\n",
    "number_speed_violations = [58451, 64970, 71898, 64303, 62554, 64591, 71562, 67697, 63822, 62747, 59097, 63519]\n",
    "x_axis = np.arange(len(number_speed_violations))\n",
    "x_axis = Months_in_2020"
   ]
  },
  {
   "cell_type": "code",
   "execution_count": 46,
   "metadata": {},
   "outputs": [
    {
     "data": {
      "text/plain": [
       "<BarContainer object of 12 artists>"
      ]
     },
     "execution_count": 46,
     "metadata": {},
     "output_type": "execute_result"
    },
    {
     "data": {
      "image/png": "[encoded data removed]",
      "text/plain": [
       "<Figure size 432x288 with 1 Axes>"
      ]
     },
     "metadata": {
      "needs_background": "light"
     },
     "output_type": "display_data"
    }
   ],
   "source": [
    "#bar plot generation\n",
    "plt.xticks(rotation = 45)\n",
    "plt.title(\"Chicago Speed Violations in 2020\")\n",
    "plt.xlabel(\"Months in 2020\")\n",
    "plt.ylabel(\"Number of Speed Violations\")\n",
    "plt.savefig(\"2020_speed\")\n",
    "plt.bar(x_axis, number_speed_violations, color=\"b\", align=\"center\")"
   ]
  },
  {
   "cell_type": "code",
   "execution_count": 29,
   "metadata": {},
   "outputs": [],
   "source": [
    "jan_start_date_19 = \"2019-01-01\"\n",
    "jan_end_date_19 = \"2019-01-31\"\n",
    "feb_start_date_19 = \"2019-02-01\"\n",
    "feb_end_date_19 = \"2019-02-28\"\n",
    "mar_start_date_19 = \"2019-03-01\"\n",
    "mar_end_date_19 = \"2019-03-31\"\n",
    "apr_start_date_19 = \"2019-04-01\"\n",
    "apr_end_date_19 = \"2019-04-30\"\n",
    "may_start_date_19 = \"2019-05-01\"\n",
    "may_end_date_19 = \"2019-05-31\"\n",
    "june_start_date_19 = \"2019-06-01\"\n",
    "june_end_date_19 = \"2019-06-30\"\n",
    "july_start_date_19 = \"2019-07-01\"\n",
    "july_end_date_19 = \"2019-07-31\"\n",
    "aug_start_date_19 = \"2019-08-01\"\n",
    "aug_end_date_19 = \"2019-08-31\"\n",
    "sep_start_date_19 = \"2019-09-01\"\n",
    "sep_end_date_19 = \"2019-09-30\"\n",
    "oct_start_date_19 = \"2019-10-01\"\n",
    "oct_end_date_19 = \"2019-10-31\"\n",
    "nov_start_date_19 = \"2019-11-01\"\n",
    "nov_end_date_19 = \"2019-11-30\"\n",
    "dec_start_date_19 = \"2019-12-01\"\n",
    "dec_end_date_19 = \"2019-12-31\""
   ]
  },
  {
   "cell_type": "code",
   "execution_count": 30,
   "metadata": {},
   "outputs": [],
   "source": [
    "jan_2019_df = speed_data_df.loc[(speed_data_df[\"violation_date_as_date\"] > jan_start_date_19) & (speed_data_df[\"violation_date_as_date\"] <= jan_end_date_19)]\n",
    "feb_2019_df = speed_data_df.loc[(speed_data_df[\"violation_date_as_date\"] > feb_start_date_19) & (speed_data_df[\"violation_date_as_date\"] <= feb_end_date_19)]\n",
    "mar_2019_df = speed_data_df.loc[(speed_data_df[\"violation_date_as_date\"] > mar_start_date_19) & (speed_data_df[\"violation_date_as_date\"] <= mar_end_date_19)]\n",
    "apr_2019_df = speed_data_df.loc[(speed_data_df[\"violation_date_as_date\"] > apr_start_date_19) & (speed_data_df[\"violation_date_as_date\"] <= apr_end_date_19)]\n",
    "may_2019_df = speed_data_df.loc[(speed_data_df[\"violation_date_as_date\"] > may_start_date_19) & (speed_data_df[\"violation_date_as_date\"] <= may_end_date_19)]\n",
    "june_2019_df = speed_data_df.loc[(speed_data_df[\"violation_date_as_date\"] > june_start_date_19) & (speed_data_df[\"violation_date_as_date\"] <= june_end_date_19)]\n",
    "july_2019_df = speed_data_df.loc[(speed_data_df[\"violation_date_as_date\"] > july_start_date_19) & (speed_data_df[\"violation_date_as_date\"] <= july_end_date_19)]\n",
    "aug_2019_df = speed_data_df.loc[(speed_data_df[\"violation_date_as_date\"] > aug_start_date_19) & (speed_data_df[\"violation_date_as_date\"] <= aug_end_date_19)]\n",
    "sep_2019_df = speed_data_df.loc[(speed_data_df[\"violation_date_as_date\"] > sep_start_date_19) & (speed_data_df[\"violation_date_as_date\"] <= sep_end_date_19)]\n",
    "oct_2019_df = speed_data_df.loc[(speed_data_df[\"violation_date_as_date\"] > oct_start_date_19) & (speed_data_df[\"violation_date_as_date\"] <= oct_end_date_19)]\n",
    "nov_2019_df = speed_data_df.loc[(speed_data_df[\"violation_date_as_date\"] > nov_start_date_19) & (speed_data_df[\"violation_date_as_date\"] <= nov_end_date_19)]\n",
    "dec_2019_df = speed_data_df.loc[(speed_data_df[\"violation_date_as_date\"] > dec_start_date_19) & (speed_data_df[\"violation_date_as_date\"] <= dec_end_date_19)]"
   ]
  },
  {
   "cell_type": "code",
   "execution_count": 31,
   "metadata": {},
   "outputs": [
    {
     "data": {
      "text/plain": [
       "57217"
      ]
     },
     "execution_count": 31,
     "metadata": {},
     "output_type": "execute_result"
    }
   ],
   "source": [
    "jan_2019_df[\"VIOLATIONS\"].sum()"
   ]
  },
  {
   "cell_type": "code",
   "execution_count": 32,
   "metadata": {},
   "outputs": [
    {
     "data": {
      "text/plain": [
       "58049"
      ]
     },
     "execution_count": 32,
     "metadata": {},
     "output_type": "execute_result"
    }
   ],
   "source": [
    "feb_2019_df[\"VIOLATIONS\"].sum()"
   ]
  },
  {
   "cell_type": "code",
   "execution_count": 33,
   "metadata": {},
   "outputs": [
    {
     "data": {
      "text/plain": [
       "80641"
      ]
     },
     "execution_count": 33,
     "metadata": {},
     "output_type": "execute_result"
    }
   ],
   "source": [
    "mar_2019_df[\"VIOLATIONS\"].sum()"
   ]
  },
  {
   "cell_type": "code",
   "execution_count": 42,
   "metadata": {},
   "outputs": [
    {
     "data": {
      "text/plain": [
       "73145"
      ]
     },
     "execution_count": 42,
     "metadata": {},
     "output_type": "execute_result"
    }
   ],
   "source": [
    "apr_2019_df[\"VIOLATIONS\"].sum()"
   ]
  },
  {
   "cell_type": "code",
   "execution_count": 43,
   "metadata": {},
   "outputs": [
    {
     "data": {
      "text/plain": [
       "83968"
      ]
     },
     "execution_count": 43,
     "metadata": {},
     "output_type": "execute_result"
    }
   ],
   "source": [
    "may_2019_df[\"VIOLATIONS\"].sum()"
   ]
  },
  {
   "cell_type": "code",
   "execution_count": 35,
   "metadata": {},
   "outputs": [
    {
     "data": {
      "text/plain": [
       "71496"
      ]
     },
     "execution_count": 35,
     "metadata": {},
     "output_type": "execute_result"
    }
   ],
   "source": [
    "june_2019_df[\"VIOLATIONS\"].sum()"
   ]
  },
  {
   "cell_type": "code",
   "execution_count": 36,
   "metadata": {},
   "outputs": [
    {
     "data": {
      "text/plain": [
       "70849"
      ]
     },
     "execution_count": 36,
     "metadata": {},
     "output_type": "execute_result"
    }
   ],
   "source": [
    "july_2019_df[\"VIOLATIONS\"].sum()"
   ]
  },
  {
   "cell_type": "code",
   "execution_count": 37,
   "metadata": {},
   "outputs": [
    {
     "data": {
      "text/plain": [
       "63106"
      ]
     },
     "execution_count": 37,
     "metadata": {},
     "output_type": "execute_result"
    }
   ],
   "source": [
    "aug_2019_df[\"VIOLATIONS\"].sum()"
   ]
  },
  {
   "cell_type": "code",
   "execution_count": 38,
   "metadata": {},
   "outputs": [
    {
     "data": {
      "text/plain": [
       "77784"
      ]
     },
     "execution_count": 38,
     "metadata": {},
     "output_type": "execute_result"
    }
   ],
   "source": [
    "sep_2019_df[\"VIOLATIONS\"].sum()"
   ]
  },
  {
   "cell_type": "code",
   "execution_count": 39,
   "metadata": {},
   "outputs": [
    {
     "data": {
      "text/plain": [
       "66760"
      ]
     },
     "execution_count": 39,
     "metadata": {},
     "output_type": "execute_result"
    }
   ],
   "source": [
    "oct_2019_df[\"VIOLATIONS\"].sum()"
   ]
  },
  {
   "cell_type": "code",
   "execution_count": 40,
   "metadata": {},
   "outputs": [
    {
     "data": {
      "text/plain": [
       "63181"
      ]
     },
     "execution_count": 40,
     "metadata": {},
     "output_type": "execute_result"
    }
   ],
   "source": [
    "nov_2019_df[\"VIOLATIONS\"].sum()"
   ]
  },
  {
   "cell_type": "code",
   "execution_count": 41,
   "metadata": {},
   "outputs": [
    {
     "data": {
      "text/plain": [
       "68441"
      ]
     },
     "execution_count": 41,
     "metadata": {},
     "output_type": "execute_result"
    }
   ],
   "source": [
    "dec_2019_df[\"VIOLATIONS\"].sum()"
   ]
  },
  {
   "cell_type": "code",
   "execution_count": 44,
   "metadata": {},
   "outputs": [],
   "source": [
    "Months_in_2019 = [\"January\", \"February\", \"March\", \"April\", \"May\", \"June\",\n",
    "                \"July\",\"August\", \"September\", \"October\", \"November\", \"December\"]\n",
    "number_speed_violations = [57217, 58049, 80641, 73145, 83968, 71496, 70849, 63106, 77784, 66760, 63181, 68441]\n",
    "x_axis = np.arange(len(number_speed_violations))\n",
    "x_axis = Months_in_2019"
   ]
  },
  {
   "cell_type": "code",
   "execution_count": 45,
   "metadata": {},
   "outputs": [
    {
     "data": {
      "text/plain": [
       "<BarContainer object of 12 artists>"
      ]
     },
     "execution_count": 45,
     "metadata": {},
     "output_type": "execute_result"
    },
    {
     "data": {
      "image/png": "[encoded data removed]",
      "text/plain": [
       "<Figure size 432x288 with 1 Axes>"
      ]
     },
     "metadata": {
      "needs_background": "light"
     },
     "output_type": "display_data"
    }
   ],
   "source": [
    "#bar plot generation\n",
    "plt.xticks(rotation = 45)\n",
    "plt.title(\"Chicago Speed Violations in 2019\")\n",
    "plt.xlabel(\"Months in 2019\")\n",
    "plt.ylabel(\"Number of Speed Violations\")\n",
    "plt.bar(x_axis, number_speed_violations, color=\"b\", align=\"center\")"
   ]
  },
  {
   "cell_type": "code",
   "execution_count": null,
   "metadata": {},
   "outputs": [],
   "source": []
  },
  {
   "cell_type": "code",
   "execution_count": null,
   "metadata": {},
   "outputs": [],
   "source": []
  }
 ],
 "metadata": {
  "kernelspec": {
   "display_name": "Python 3",
   "language": "python",
   "name": "python3"
  },
  "language_info": {
   "codemirror_mode": {
    "name": "ipython",
    "version": 3
   },
   "file_extension": ".py",
   "mimetype": "text/x-python",
   "name": "python",
   "nbconvert_exporter": "python",
   "pygments_lexer": "ipython3",
   "version": "3.8.5"
  }
 },
 "nbformat": 4,
 "nbformat_minor": 4
}
