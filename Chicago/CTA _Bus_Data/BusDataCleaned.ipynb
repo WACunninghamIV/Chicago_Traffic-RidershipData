{
 "cells": [
  {
   "cell_type": "code",
   "execution_count": 32,
   "metadata": {},
   "outputs": [],
   "source": [
    "# Import Dependencies\n",
    "import pandas as pd\n",
    "import matplotlib.pyplot as plt"
   ]
  },
  {
   "cell_type": "code",
   "execution_count": 2,
   "metadata": {},
   "outputs": [
    {
     "data": {
      "text/html": [
       "<div>\n",
       "<style scoped>\n",
       "    .dataframe tbody tr th:only-of-type {\n",
       "        vertical-align: middle;\n",
       "    }\n",
       "\n",
       "    .dataframe tbody tr th {\n",
       "        vertical-align: top;\n",
       "    }\n",
       "\n",
       "    .dataframe thead th {\n",
       "        text-align: right;\n",
       "    }\n",
       "</style>\n",
       "<table border=\"1\" class=\"dataframe\">\n",
       "  <thead>\n",
       "    <tr style=\"text-align: right;\">\n",
       "      <th></th>\n",
       "      <th>route</th>\n",
       "      <th>date</th>\n",
       "      <th>daytype</th>\n",
       "      <th>rides</th>\n",
       "    </tr>\n",
       "  </thead>\n",
       "  <tbody>\n",
       "    <tr>\n",
       "      <th>0</th>\n",
       "      <td>3</td>\n",
       "      <td>01/01/2001</td>\n",
       "      <td>U</td>\n",
       "      <td>7354</td>\n",
       "    </tr>\n",
       "    <tr>\n",
       "      <th>1</th>\n",
       "      <td>4</td>\n",
       "      <td>01/01/2001</td>\n",
       "      <td>U</td>\n",
       "      <td>9288</td>\n",
       "    </tr>\n",
       "    <tr>\n",
       "      <th>2</th>\n",
       "      <td>6</td>\n",
       "      <td>01/01/2001</td>\n",
       "      <td>U</td>\n",
       "      <td>6048</td>\n",
       "    </tr>\n",
       "    <tr>\n",
       "      <th>3</th>\n",
       "      <td>8</td>\n",
       "      <td>01/01/2001</td>\n",
       "      <td>U</td>\n",
       "      <td>6309</td>\n",
       "    </tr>\n",
       "    <tr>\n",
       "      <th>4</th>\n",
       "      <td>9</td>\n",
       "      <td>01/01/2001</td>\n",
       "      <td>U</td>\n",
       "      <td>11207</td>\n",
       "    </tr>\n",
       "  </tbody>\n",
       "</table>\n",
       "</div>"
      ],
      "text/plain": [
       "  route        date daytype  rides\n",
       "0     3  01/01/2001       U   7354\n",
       "1     4  01/01/2001       U   9288\n",
       "2     6  01/01/2001       U   6048\n",
       "3     8  01/01/2001       U   6309\n",
       "4     9  01/01/2001       U  11207"
      ]
     },
     "execution_count": 2,
     "metadata": {},
     "output_type": "execute_result"
    }
   ],
   "source": [
    "file = 'Resources/CTA_-_Ridership_-_Bus_Routes_-_Daily_Totals_by_Route.csv'\n",
    "df_CTABusData = pd.read_csv(file, encoding=\"ISO-8859-1\")\n",
    "df_CTABusData.head()"
   ]
  },
  {
   "cell_type": "code",
   "execution_count": 3,
   "metadata": {},
   "outputs": [],
   "source": [
    "df_CTABusData[\"date_of_rides\"] = pd.to_datetime(df_CTABusData[\"date\"])"
   ]
  },
  {
   "cell_type": "code",
   "execution_count": 4,
   "metadata": {},
   "outputs": [],
   "source": [
    "# Dates 2020 \n",
    "\n",
    "jan_start_date = \"2020-01-01\" \n",
    "jan_end_date = \"2020-01-31\"\n",
    "feb_start_date = \"2020-02-01\" \n",
    "feb_end_date = \"2020-02-29\"\n",
    "mar_start_date = \"2020-03-01\" \n",
    "mar_end_date = \"2020-03-31\"\n",
    "apr_start_date = \"2020-04-01\" \n",
    "apr_end_date = \"2020-04-30\"\n",
    "may_start_date = \"2020-05-01\" \n",
    "may_end_date = \"2020-05-31\"\n",
    "jun_start_date = \"2020-06-01\" \n",
    "jun_end_date = \"2020-06-30\"\n",
    "jul_start_date = \"2020-07-01\" \n",
    "jul_end_date = \"2020-07-31\"\n",
    "aug_start_date = \"2020-08-01\" \n",
    "aug_end_date = \"2020-08-30\"\n",
    "sep_start_date = \"2020-09-01\" \n",
    "sep_end_date = \"2020-09-30\"\n",
    "oct_start_date = \"2020-10-01\" \n",
    "oct_end_date = \"2020-10-31\"\n",
    "nov_start_date = \"2020-11-01\" \n",
    "nov_end_date = \"2020-11-30\""
   ]
  },
  {
   "cell_type": "code",
   "execution_count": 5,
   "metadata": {},
   "outputs": [],
   "source": [
    "jan_2020_df = df_CTABusData.loc[(df_CTABusData[\"date_of_rides\"] > jan_start_date) & (df_CTABusData[\"date_of_rides\"] <= jan_end_date)]\n",
    "feb_2020_df = df_CTABusData.loc[(df_CTABusData[\"date_of_rides\"] > feb_start_date) & (df_CTABusData[\"date_of_rides\"] <= feb_end_date)]\n",
    "mar_2020_df = df_CTABusData.loc[(df_CTABusData[\"date_of_rides\"] > mar_start_date) & (df_CTABusData[\"date_of_rides\"] <= mar_end_date)]\n",
    "apr_2020_df = df_CTABusData.loc[(df_CTABusData[\"date_of_rides\"] > apr_start_date) & (df_CTABusData[\"date_of_rides\"] <= apr_end_date)]\n",
    "may_2020_df = df_CTABusData.loc[(df_CTABusData[\"date_of_rides\"] > may_start_date) & (df_CTABusData[\"date_of_rides\"] <= may_end_date)]\n",
    "jun_2020_df = df_CTABusData.loc[(df_CTABusData[\"date_of_rides\"] > jun_start_date) & (df_CTABusData[\"date_of_rides\"] <= jun_end_date)]\n",
    "jul_2020_df = df_CTABusData.loc[(df_CTABusData[\"date_of_rides\"] > jul_start_date) & (df_CTABusData[\"date_of_rides\"] <= jul_end_date)]\n",
    "aug_2020_df = df_CTABusData.loc[(df_CTABusData[\"date_of_rides\"] > aug_start_date) & (df_CTABusData[\"date_of_rides\"] <= aug_end_date)]\n",
    "sep_2020_df = df_CTABusData.loc[(df_CTABusData[\"date_of_rides\"] > sep_start_date) & (df_CTABusData[\"date_of_rides\"] <= sep_end_date)]\n",
    "oct_2020_df = df_CTABusData.loc[(df_CTABusData[\"date_of_rides\"] > oct_start_date) & (df_CTABusData[\"date_of_rides\"] <= oct_end_date)]\n",
    "nov_2020_df = df_CTABusData.loc[(df_CTABusData[\"date_of_rides\"] > nov_start_date) & (df_CTABusData[\"date_of_rides\"] <= nov_end_date)]"
   ]
  },
  {
   "cell_type": "code",
   "execution_count": 6,
   "metadata": {},
   "outputs": [
    {
     "data": {
      "text/html": [
       "<div>\n",
       "<style scoped>\n",
       "    .dataframe tbody tr th:only-of-type {\n",
       "        vertical-align: middle;\n",
       "    }\n",
       "\n",
       "    .dataframe tbody tr th {\n",
       "        vertical-align: top;\n",
       "    }\n",
       "\n",
       "    .dataframe thead th {\n",
       "        text-align: right;\n",
       "    }\n",
       "</style>\n",
       "<table border=\"1\" class=\"dataframe\">\n",
       "  <thead>\n",
       "    <tr style=\"text-align: right;\">\n",
       "      <th></th>\n",
       "      <th>route</th>\n",
       "      <th>date</th>\n",
       "      <th>daytype</th>\n",
       "      <th>rides</th>\n",
       "      <th>date_of_rides</th>\n",
       "    </tr>\n",
       "  </thead>\n",
       "  <tbody>\n",
       "    <tr>\n",
       "      <th>852211</th>\n",
       "      <td>1</td>\n",
       "      <td>03/02/2020</td>\n",
       "      <td>W</td>\n",
       "      <td>1944</td>\n",
       "      <td>2020-03-02</td>\n",
       "    </tr>\n",
       "    <tr>\n",
       "      <th>852212</th>\n",
       "      <td>1</td>\n",
       "      <td>03/03/2020</td>\n",
       "      <td>W</td>\n",
       "      <td>2126</td>\n",
       "      <td>2020-03-03</td>\n",
       "    </tr>\n",
       "    <tr>\n",
       "      <th>852213</th>\n",
       "      <td>1</td>\n",
       "      <td>03/04/2020</td>\n",
       "      <td>W</td>\n",
       "      <td>2001</td>\n",
       "      <td>2020-03-04</td>\n",
       "    </tr>\n",
       "    <tr>\n",
       "      <th>852214</th>\n",
       "      <td>1</td>\n",
       "      <td>03/05/2020</td>\n",
       "      <td>W</td>\n",
       "      <td>1930</td>\n",
       "      <td>2020-03-05</td>\n",
       "    </tr>\n",
       "    <tr>\n",
       "      <th>852215</th>\n",
       "      <td>1</td>\n",
       "      <td>03/06/2020</td>\n",
       "      <td>W</td>\n",
       "      <td>1701</td>\n",
       "      <td>2020-03-06</td>\n",
       "    </tr>\n",
       "  </tbody>\n",
       "</table>\n",
       "</div>"
      ],
      "text/plain": [
       "       route        date daytype  rides date_of_rides\n",
       "852211     1  03/02/2020       W   1944    2020-03-02\n",
       "852212     1  03/03/2020       W   2126    2020-03-03\n",
       "852213     1  03/04/2020       W   2001    2020-03-04\n",
       "852214     1  03/05/2020       W   1930    2020-03-05\n",
       "852215     1  03/06/2020       W   1701    2020-03-06"
      ]
     },
     "execution_count": 6,
     "metadata": {},
     "output_type": "execute_result"
    }
   ],
   "source": [
    "mar_2020_df.head()"
   ]
  },
  {
   "cell_type": "code",
   "execution_count": 7,
   "metadata": {},
   "outputs": [
    {
     "data": {
      "text/plain": [
       "19072845"
      ]
     },
     "execution_count": 7,
     "metadata": {},
     "output_type": "execute_result"
    }
   ],
   "source": [
    "Jan_Rides = jan_2020_df[\"rides\"].sum()\n",
    "Jan_Rides"
   ]
  },
  {
   "cell_type": "code",
   "execution_count": 19,
   "metadata": {},
   "outputs": [
    {
     "data": {
      "text/plain": [
       "18429801"
      ]
     },
     "execution_count": 19,
     "metadata": {},
     "output_type": "execute_result"
    }
   ],
   "source": [
    "Feb_Rides = feb_2020_df[\"rides\"].sum()\n",
    "Feb_Rides"
   ]
  },
  {
   "cell_type": "code",
   "execution_count": 20,
   "metadata": {},
   "outputs": [
    {
     "data": {
      "text/plain": [
       "12912755"
      ]
     },
     "execution_count": 20,
     "metadata": {},
     "output_type": "execute_result"
    }
   ],
   "source": [
    "Mar_Rides = mar_2020_df[\"rides\"].sum()\n",
    "Mar_Rides"
   ]
  },
  {
   "cell_type": "code",
   "execution_count": 21,
   "metadata": {},
   "outputs": [
    {
     "data": {
      "text/plain": [
       "5582273"
      ]
     },
     "execution_count": 21,
     "metadata": {},
     "output_type": "execute_result"
    }
   ],
   "source": [
    "Apr_rides = apr_2020_df[\"rides\"].sum()\n",
    "Apr_rides"
   ]
  },
  {
   "cell_type": "code",
   "execution_count": 22,
   "metadata": {},
   "outputs": [
    {
     "data": {
      "text/plain": [
       "6504701"
      ]
     },
     "execution_count": 22,
     "metadata": {},
     "output_type": "execute_result"
    }
   ],
   "source": [
    "May_rides = may_2020_df[\"rides\"].sum()\n",
    "May_rides"
   ]
  },
  {
   "cell_type": "code",
   "execution_count": 23,
   "metadata": {},
   "outputs": [
    {
     "data": {
      "text/plain": [
       "7081280"
      ]
     },
     "execution_count": 23,
     "metadata": {},
     "output_type": "execute_result"
    }
   ],
   "source": [
    "Jun_rides = jun_2020_df[\"rides\"].sum()\n",
    "Jun_rides"
   ]
  },
  {
   "cell_type": "code",
   "execution_count": 24,
   "metadata": {},
   "outputs": [
    {
     "data": {
      "text/plain": [
       "8189871"
      ]
     },
     "execution_count": 24,
     "metadata": {},
     "output_type": "execute_result"
    }
   ],
   "source": [
    "Jul_rides = jul_2020_df[\"rides\"].sum()\n",
    "Jul_rides "
   ]
  },
  {
   "cell_type": "code",
   "execution_count": 25,
   "metadata": {},
   "outputs": [
    {
     "data": {
      "text/plain": [
       "7897782"
      ]
     },
     "execution_count": 25,
     "metadata": {},
     "output_type": "execute_result"
    }
   ],
   "source": [
    "Aug_rides = aug_2020_df[\"rides\"].sum()\n",
    "Aug_rides "
   ]
  },
  {
   "cell_type": "code",
   "execution_count": 26,
   "metadata": {},
   "outputs": [
    {
     "data": {
      "text/plain": [
       "8186122"
      ]
     },
     "execution_count": 26,
     "metadata": {},
     "output_type": "execute_result"
    }
   ],
   "source": [
    "Sep_rides = sep_2020_df[\"rides\"].sum()\n",
    "Sep_rides"
   ]
  },
  {
   "cell_type": "code",
   "execution_count": 27,
   "metadata": {},
   "outputs": [
    {
     "data": {
      "text/plain": [
       "8472419"
      ]
     },
     "execution_count": 27,
     "metadata": {},
     "output_type": "execute_result"
    }
   ],
   "source": [
    "Oct_rides = oct_2020_df[\"rides\"].sum()\n",
    "Oct_rides"
   ]
  },
  {
   "cell_type": "code",
   "execution_count": 28,
   "metadata": {},
   "outputs": [
    {
     "data": {
      "text/plain": [
       "7274626"
      ]
     },
     "execution_count": 28,
     "metadata": {},
     "output_type": "execute_result"
    }
   ],
   "source": [
    "Nov_rides = nov_2020_df[\"rides\"].sum()\n",
    "Nov_rides"
   ]
  },
  {
   "cell_type": "code",
   "execution_count": 30,
   "metadata": {},
   "outputs": [
    {
     "data": {
      "text/html": [
       "<div>\n",
       "<style scoped>\n",
       "    .dataframe tbody tr th:only-of-type {\n",
       "        vertical-align: middle;\n",
       "    }\n",
       "\n",
       "    .dataframe tbody tr th {\n",
       "        vertical-align: top;\n",
       "    }\n",
       "\n",
       "    .dataframe thead th {\n",
       "        text-align: right;\n",
       "    }\n",
       "</style>\n",
       "<table border=\"1\" class=\"dataframe\">\n",
       "  <thead>\n",
       "    <tr style=\"text-align: right;\">\n",
       "      <th></th>\n",
       "      <th>Number of Rides</th>\n",
       "    </tr>\n",
       "    <tr>\n",
       "      <th>Month in 2020</th>\n",
       "      <th></th>\n",
       "    </tr>\n",
       "  </thead>\n",
       "  <tbody>\n",
       "    <tr>\n",
       "      <th>January</th>\n",
       "      <td>19072845</td>\n",
       "    </tr>\n",
       "    <tr>\n",
       "      <th>Feburary</th>\n",
       "      <td>18429801</td>\n",
       "    </tr>\n",
       "    <tr>\n",
       "      <th>March</th>\n",
       "      <td>12912755</td>\n",
       "    </tr>\n",
       "    <tr>\n",
       "      <th>April</th>\n",
       "      <td>5582273</td>\n",
       "    </tr>\n",
       "    <tr>\n",
       "      <th>May</th>\n",
       "      <td>6504701</td>\n",
       "    </tr>\n",
       "    <tr>\n",
       "      <th>June</th>\n",
       "      <td>7081280</td>\n",
       "    </tr>\n",
       "    <tr>\n",
       "      <th>July</th>\n",
       "      <td>8189871</td>\n",
       "    </tr>\n",
       "    <tr>\n",
       "      <th>August</th>\n",
       "      <td>7897782</td>\n",
       "    </tr>\n",
       "    <tr>\n",
       "      <th>September</th>\n",
       "      <td>8186122</td>\n",
       "    </tr>\n",
       "    <tr>\n",
       "      <th>October</th>\n",
       "      <td>8472419</td>\n",
       "    </tr>\n",
       "    <tr>\n",
       "      <th>November</th>\n",
       "      <td>7274626</td>\n",
       "    </tr>\n",
       "  </tbody>\n",
       "</table>\n",
       "</div>"
      ],
      "text/plain": [
       "               Number of Rides\n",
       "Month in 2020                 \n",
       "January               19072845\n",
       "Feburary              18429801\n",
       "March                 12912755\n",
       "April                  5582273\n",
       "May                    6504701\n",
       "June                   7081280\n",
       "July                   8189871\n",
       "August                 7897782\n",
       "September              8186122\n",
       "October                8472419\n",
       "November               7274626"
      ]
     },
     "execution_count": 30,
     "metadata": {},
     "output_type": "execute_result"
    }
   ],
   "source": [
    "NewBusData_df = pd.DataFrame(\n",
    "    {\"Month in 2020\": [\"January\", \"Feburary\", \"March\", \"April\", \"May\", \"June\", \"July\", \"August\", \"September\", \"October\", \"November\"],\n",
    "     \"Number of Rides\": [Jan_Rides, Feb_Rides, Mar_Rides, Apr_rides, May_rides, Jun_rides, Jul_rides, Aug_rides, Sep_rides, Oct_rides, Nov_rides]\n",
    "     }\n",
    ")\n",
    "NewBusData_df = NewBusData_df.set_index(\"Month in 2020\")\n",
    "NewBusData_df"
   ]
  },
  {
   "cell_type": "code",
   "execution_count": 33,
   "metadata": {},
   "outputs": [
    {
     "data": {
      "image/png": "[encoded data removed]",
      "text/plain": [
       "<Figure size 432x288 with 1 Axes>"
      ]
     },
     "metadata": {
      "needs_background": "light"
     },
     "output_type": "display_data"
    },
    {
     "data": {
      "text/plain": [
       "<Figure size 432x288 with 0 Axes>"
      ]
     },
     "metadata": {},
     "output_type": "display_data"
    }
   ],
   "source": [
    "# Use DataFrame.plot() in order to create a bar chart of the data\n",
    "NewBusData_df.plot(kind=\"bar\")\n",
    "\n",
    "# Set a title for the chart\n",
    "plt.title(\"Number of Bus Rides in 2020\")\n",
    "\n",
    "plt.show()\n",
    "plt.tight_layout()"
   ]
  },
  {
   "cell_type": "code",
   "execution_count": null,
   "metadata": {},
   "outputs": [],
   "source": []
  }
 ],
 "metadata": {
  "kernelspec": {
   "display_name": "Python 3",
   "language": "python",
   "name": "python3"
  },
  "language_info": {
   "codemirror_mode": {
    "name": "ipython",
    "version": 3
   },
   "file_extension": ".py",
   "mimetype": "text/x-python",
   "name": "python",
   "nbconvert_exporter": "python",
   "pygments_lexer": "ipython3",
   "version": "3.8.5"
  }
 },
 "nbformat": 4,
 "nbformat_minor": 4
}
