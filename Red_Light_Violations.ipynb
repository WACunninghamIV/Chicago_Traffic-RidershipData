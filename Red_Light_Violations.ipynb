{
 "cells": [
  {
   "cell_type": "code",
   "execution_count": 1,
   "metadata": {},
   "outputs": [],
   "source": [
    "# Import packages \n",
    "import pandas as pd\n",
    "import matplotlib.pyplot as plt\n",
    "import numpy as np\n",
    "import datetime"
   ]
  },
  {
   "cell_type": "code",
   "execution_count": 2,
   "metadata": {},
   "outputs": [],
   "source": [
    "# Store filepath in a variable\n",
    "violation = \"Red_Light_Camera_Violations.csv\""
   ]
  },
  {
   "cell_type": "code",
   "execution_count": 6,
   "metadata": {},
   "outputs": [
    {
     "name": "stdout",
     "output_type": "stream",
     "text": [
      "Archive:  Red_Light_Camera_Violations.csv.zip\n",
      "  inflating: Red_Light_Camera_Violations.csv  \n",
      "replace __MACOSX/._Red_Light_Camera_Violations.csv? [y]es, [n]o, [A]ll, [N]one, [r]ename: ^C\n"
     ]
    }
   ],
   "source": [
    "#!cd Resources/ && unzip Red_Light_Camera_Violations.csv.zip"
   ]
  },
  {
   "cell_type": "code",
   "execution_count": 7,
   "metadata": {},
   "outputs": [],
   "source": [
    "!open ."
   ]
  },
  {
   "cell_type": "code",
   "execution_count": 8,
   "metadata": {},
   "outputs": [],
   "source": [
    "violation_df = pd.read_csv(\"Resources/Red_Light_Camera_Violations.csv\", encoding=\"UTF-8\")"
   ]
  },
  {
   "cell_type": "code",
   "execution_count": 9,
   "metadata": {},
   "outputs": [
    {
     "data": {
      "text/html": [
       "<div>\n",
       "<style scoped>\n",
       "    .dataframe tbody tr th:only-of-type {\n",
       "        vertical-align: middle;\n",
       "    }\n",
       "\n",
       "    .dataframe tbody tr th {\n",
       "        vertical-align: top;\n",
       "    }\n",
       "\n",
       "    .dataframe thead th {\n",
       "        text-align: right;\n",
       "    }\n",
       "</style>\n",
       "<table border=\"1\" class=\"dataframe\">\n",
       "  <thead>\n",
       "    <tr style=\"text-align: right;\">\n",
       "      <th></th>\n",
       "      <th>INTERSECTION</th>\n",
       "      <th>CAMERA ID</th>\n",
       "      <th>ADDRESS</th>\n",
       "      <th>VIOLATION DATE</th>\n",
       "      <th>VIOLATIONS</th>\n",
       "      <th>X COORDINATE</th>\n",
       "      <th>Y COORDINATE</th>\n",
       "      <th>LATITUDE</th>\n",
       "      <th>LONGITUDE</th>\n",
       "      <th>LOCATION</th>\n",
       "    </tr>\n",
       "  </thead>\n",
       "  <tbody>\n",
       "    <tr>\n",
       "      <th>0</th>\n",
       "      <td>IRVING PARK AND KILPATRICK</td>\n",
       "      <td>2763.0</td>\n",
       "      <td>4700 W IRVING PARK ROA</td>\n",
       "      <td>04/09/2015</td>\n",
       "      <td>4</td>\n",
       "      <td>NaN</td>\n",
       "      <td>NaN</td>\n",
       "      <td>NaN</td>\n",
       "      <td>NaN</td>\n",
       "      <td>NaN</td>\n",
       "    </tr>\n",
       "    <tr>\n",
       "      <th>1</th>\n",
       "      <td>VAN BUREN AND WESTERN</td>\n",
       "      <td>2054.0</td>\n",
       "      <td>2400 W VAN BUREN STREE</td>\n",
       "      <td>04/14/2015</td>\n",
       "      <td>5</td>\n",
       "      <td>NaN</td>\n",
       "      <td>NaN</td>\n",
       "      <td>NaN</td>\n",
       "      <td>NaN</td>\n",
       "      <td>NaN</td>\n",
       "    </tr>\n",
       "    <tr>\n",
       "      <th>2</th>\n",
       "      <td>115TH AND HALSTED</td>\n",
       "      <td>2552.0</td>\n",
       "      <td>11500 S HALSTED STREE</td>\n",
       "      <td>04/08/2015</td>\n",
       "      <td>5</td>\n",
       "      <td>NaN</td>\n",
       "      <td>NaN</td>\n",
       "      <td>NaN</td>\n",
       "      <td>NaN</td>\n",
       "      <td>NaN</td>\n",
       "    </tr>\n",
       "    <tr>\n",
       "      <th>3</th>\n",
       "      <td>IRVING PARK AND KILPATRICK</td>\n",
       "      <td>2764.0</td>\n",
       "      <td>4700 W IRVING PARK ROA</td>\n",
       "      <td>04/19/2015</td>\n",
       "      <td>4</td>\n",
       "      <td>NaN</td>\n",
       "      <td>NaN</td>\n",
       "      <td>NaN</td>\n",
       "      <td>NaN</td>\n",
       "      <td>NaN</td>\n",
       "    </tr>\n",
       "    <tr>\n",
       "      <th>4</th>\n",
       "      <td>ELSTON AND IRVING PARK</td>\n",
       "      <td>1503.0</td>\n",
       "      <td>3700 W IRVING PARK ROA</td>\n",
       "      <td>04/23/2015</td>\n",
       "      <td>3</td>\n",
       "      <td>NaN</td>\n",
       "      <td>NaN</td>\n",
       "      <td>NaN</td>\n",
       "      <td>NaN</td>\n",
       "      <td>NaN</td>\n",
       "    </tr>\n",
       "  </tbody>\n",
       "</table>\n",
       "</div>"
      ],
      "text/plain": [
       "                 INTERSECTION  CAMERA ID                 ADDRESS  \\\n",
       "0  IRVING PARK AND KILPATRICK     2763.0  4700 W IRVING PARK ROA   \n",
       "1       VAN BUREN AND WESTERN     2054.0  2400 W VAN BUREN STREE   \n",
       "2           115TH AND HALSTED     2552.0   11500 S HALSTED STREE   \n",
       "3  IRVING PARK AND KILPATRICK     2764.0  4700 W IRVING PARK ROA   \n",
       "4      ELSTON AND IRVING PARK     1503.0  3700 W IRVING PARK ROA   \n",
       "\n",
       "  VIOLATION DATE  VIOLATIONS  X COORDINATE  Y COORDINATE  LATITUDE  LONGITUDE  \\\n",
       "0     04/09/2015           4           NaN           NaN       NaN        NaN   \n",
       "1     04/14/2015           5           NaN           NaN       NaN        NaN   \n",
       "2     04/08/2015           5           NaN           NaN       NaN        NaN   \n",
       "3     04/19/2015           4           NaN           NaN       NaN        NaN   \n",
       "4     04/23/2015           3           NaN           NaN       NaN        NaN   \n",
       "\n",
       "  LOCATION  \n",
       "0      NaN  \n",
       "1      NaN  \n",
       "2      NaN  \n",
       "3      NaN  \n",
       "4      NaN  "
      ]
     },
     "execution_count": 9,
     "metadata": {},
     "output_type": "execute_result"
    }
   ],
   "source": [
    "violation_df.head()"
   ]
  },
  {
   "cell_type": "code",
   "execution_count": 10,
   "metadata": {},
   "outputs": [],
   "source": [
    "violation_df[\"violation_date_as_date\"] = pd.to_datetime(violation_df[\"VIOLATION DATE\"])\n"
   ]
  },
  {
   "cell_type": "code",
   "execution_count": 11,
   "metadata": {},
   "outputs": [],
   "source": [
    "# Dates 2020 \n",
    "\n",
    "jan_start_date = \"2020-01-01\" \n",
    "jan_end_date = \"2020-01-31\"\n",
    "feb_start_date = \"2020-02-01\" \n",
    "feb_end_date = \"2020-02-29\"\n",
    "mar_start_date = \"2020-03-01\" \n",
    "mar_end_date = \"2020-03-31\"\n",
    "apr_start_date = \"2020-04-01\" \n",
    "apr_end_date = \"2020-04-30\"\n",
    "may_start_date = \"2020-05-01\" \n",
    "may_end_date = \"2020-05-31\"\n",
    "jun_start_date = \"2020-06-01\" \n",
    "jun_end_date = \"2020-06-30\"\n",
    "jul_start_date = \"2020-07-01\" \n",
    "jul_end_date = \"2020-07-31\"\n",
    "aug_start_date = \"2020-08-01\" \n",
    "aug_end_date = \"2020-08-30\"\n",
    "sep_start_date = \"2020-09-01\" \n",
    "sep_end_date = \"2020-09-30\"\n",
    "oct_start_date = \"2020-10-01\" \n",
    "oct_end_date = \"2020-10-31\"\n",
    "nov_start_date = \"2020-11-01\" \n",
    "nov_end_date = \"2020-11-30\"\n",
    "dec_start_date = \"2020-12-01\" \n",
    "dec_end_date = \"2020-12-31\"\n",
    "jan21_start_date = \"2021-01-01\" \n",
    "jan21_end_date = \"2021-01-31\"\n",
    "feb21_start_date = \"2021-02-01\" \n",
    "feb21_end_date = \"2021-02-28\"\n",
    "mar21_start_date = \"2021-03-01\" \n",
    "mar21_end_date = \"2021-03-31\""
   ]
  },
  {
   "cell_type": "code",
   "execution_count": 12,
   "metadata": {},
   "outputs": [],
   "source": [
    "# Month DF\n",
    "\n",
    "jan_2020_df = violation_df.loc[(violation_df[\"violation_date_as_date\"] > jan_start_date) & (violation_df[\"violation_date_as_date\"] <= jan_end_date)]\n",
    "feb_2020_df = violation_df.loc[(violation_df[\"violation_date_as_date\"] > feb_start_date) & (violation_df[\"violation_date_as_date\"] <= feb_end_date)]\n",
    "mar_2020_df = violation_df.loc[(violation_df[\"violation_date_as_date\"] > mar_start_date) & (violation_df[\"violation_date_as_date\"] <= mar_end_date)]\n",
    "apr_2020_df = violation_df.loc[(violation_df[\"violation_date_as_date\"] > apr_start_date) & (violation_df[\"violation_date_as_date\"] <= apr_end_date)]\n",
    "may_2020_df = violation_df.loc[(violation_df[\"violation_date_as_date\"] > may_start_date) & (violation_df[\"violation_date_as_date\"] <= may_end_date)]\n",
    "jun_2020_df = violation_df.loc[(violation_df[\"violation_date_as_date\"] > jun_start_date) & (violation_df[\"violation_date_as_date\"] <= jun_end_date)]\n",
    "jul_2020_df = violation_df.loc[(violation_df[\"violation_date_as_date\"] > jul_start_date) & (violation_df[\"violation_date_as_date\"] <= jul_end_date)]\n",
    "aug_2020_df = violation_df.loc[(violation_df[\"violation_date_as_date\"] > aug_start_date) & (violation_df[\"violation_date_as_date\"] <= aug_end_date)]\n",
    "sep_2020_df = violation_df.loc[(violation_df[\"violation_date_as_date\"] > sep_start_date) & (violation_df[\"violation_date_as_date\"] <= sep_end_date)]\n",
    "oct_2020_df = violation_df.loc[(violation_df[\"violation_date_as_date\"] > oct_start_date) & (violation_df[\"violation_date_as_date\"] <= oct_end_date)]\n",
    "nov_2020_df = violation_df.loc[(violation_df[\"violation_date_as_date\"] > nov_start_date) & (violation_df[\"violation_date_as_date\"] <= nov_end_date)]\n",
    "dec_2020_df = violation_df.loc[(violation_df[\"violation_date_as_date\"] > dec_start_date) & (violation_df[\"violation_date_as_date\"] <= dec_end_date)]\n",
    "jan_2021_df = violation_df.loc[(violation_df[\"violation_date_as_date\"] > jan21_start_date) & (violation_df[\"violation_date_as_date\"] <= jan21_end_date)]\n",
    "feb_2021_df = violation_df.loc[(violation_df[\"violation_date_as_date\"] > feb21_start_date) & (violation_df[\"violation_date_as_date\"] <= feb21_end_date)]\n",
    "mar_2021_df = violation_df.loc[(violation_df[\"violation_date_as_date\"] > mar21_start_date) & (violation_df[\"violation_date_as_date\"] <= mar21_end_date)]\n"
   ]
  },
  {
   "cell_type": "code",
   "execution_count": 13,
   "metadata": {},
   "outputs": [
    {
     "data": {
      "text/html": [
       "<div>\n",
       "<style scoped>\n",
       "    .dataframe tbody tr th:only-of-type {\n",
       "        vertical-align: middle;\n",
       "    }\n",
       "\n",
       "    .dataframe tbody tr th {\n",
       "        vertical-align: top;\n",
       "    }\n",
       "\n",
       "    .dataframe thead th {\n",
       "        text-align: right;\n",
       "    }\n",
       "</style>\n",
       "<table border=\"1\" class=\"dataframe\">\n",
       "  <thead>\n",
       "    <tr style=\"text-align: right;\">\n",
       "      <th></th>\n",
       "      <th>INTERSECTION</th>\n",
       "      <th>CAMERA ID</th>\n",
       "      <th>ADDRESS</th>\n",
       "      <th>VIOLATION DATE</th>\n",
       "      <th>VIOLATIONS</th>\n",
       "      <th>X COORDINATE</th>\n",
       "      <th>Y COORDINATE</th>\n",
       "      <th>LATITUDE</th>\n",
       "      <th>LONGITUDE</th>\n",
       "      <th>LOCATION</th>\n",
       "      <th>violation_date_as_date</th>\n",
       "    </tr>\n",
       "  </thead>\n",
       "  <tbody>\n",
       "    <tr>\n",
       "      <th>2424</th>\n",
       "      <td>ASHLAND AND IRVING PARK</td>\n",
       "      <td>1153.0</td>\n",
       "      <td>1600 W IRVING PARK ROA</td>\n",
       "      <td>03/12/2020</td>\n",
       "      <td>2</td>\n",
       "      <td>NaN</td>\n",
       "      <td>NaN</td>\n",
       "      <td>NaN</td>\n",
       "      <td>NaN</td>\n",
       "      <td>NaN</td>\n",
       "      <td>2020-03-12</td>\n",
       "    </tr>\n",
       "    <tr>\n",
       "      <th>5147</th>\n",
       "      <td>IRVING PARK AND CALIFORNIA</td>\n",
       "      <td>1234.0</td>\n",
       "      <td>2800 W IRVING PARK ROA</td>\n",
       "      <td>03/12/2020</td>\n",
       "      <td>2</td>\n",
       "      <td>NaN</td>\n",
       "      <td>NaN</td>\n",
       "      <td>NaN</td>\n",
       "      <td>NaN</td>\n",
       "      <td>NaN</td>\n",
       "      <td>2020-03-12</td>\n",
       "    </tr>\n",
       "    <tr>\n",
       "      <th>5740</th>\n",
       "      <td>99TH AND HALSTED</td>\n",
       "      <td>2431.0</td>\n",
       "      <td>9900 S HALSTED ST</td>\n",
       "      <td>03/12/2020</td>\n",
       "      <td>17</td>\n",
       "      <td>1.172690e+06</td>\n",
       "      <td>1.839172e+06</td>\n",
       "      <td>41.714119</td>\n",
       "      <td>-87.643145</td>\n",
       "      <td>(41.714118868089905, -87.64314540818165)</td>\n",
       "      <td>2020-03-12</td>\n",
       "    </tr>\n",
       "    <tr>\n",
       "      <th>5741</th>\n",
       "      <td>LAWRENCE AND CICERO</td>\n",
       "      <td>1041.0</td>\n",
       "      <td>4800 N CICERO AVE</td>\n",
       "      <td>03/12/2020</td>\n",
       "      <td>8</td>\n",
       "      <td>1.143465e+06</td>\n",
       "      <td>1.931491e+06</td>\n",
       "      <td>41.968048</td>\n",
       "      <td>-87.747876</td>\n",
       "      <td>(41.968048007293845, -87.74787598468126)</td>\n",
       "      <td>2020-03-12</td>\n",
       "    </tr>\n",
       "    <tr>\n",
       "      <th>5743</th>\n",
       "      <td>PULASKI AND ARMITAGE</td>\n",
       "      <td>1844.0</td>\n",
       "      <td>4000 W ARMITAGE AVENUE</td>\n",
       "      <td>03/12/2020</td>\n",
       "      <td>4</td>\n",
       "      <td>1.149375e+06</td>\n",
       "      <td>1.913029e+06</td>\n",
       "      <td>41.917275</td>\n",
       "      <td>-87.726623</td>\n",
       "      <td>(41.91727506940875, -87.72662274644799)</td>\n",
       "      <td>2020-03-12</td>\n",
       "    </tr>\n",
       "  </tbody>\n",
       "</table>\n",
       "</div>"
      ],
      "text/plain": [
       "                    INTERSECTION  CAMERA ID                 ADDRESS  \\\n",
       "2424     ASHLAND AND IRVING PARK     1153.0  1600 W IRVING PARK ROA   \n",
       "5147  IRVING PARK AND CALIFORNIA     1234.0  2800 W IRVING PARK ROA   \n",
       "5740            99TH AND HALSTED     2431.0       9900 S HALSTED ST   \n",
       "5741         LAWRENCE AND CICERO     1041.0       4800 N CICERO AVE   \n",
       "5743        PULASKI AND ARMITAGE     1844.0  4000 W ARMITAGE AVENUE   \n",
       "\n",
       "     VIOLATION DATE  VIOLATIONS  X COORDINATE  Y COORDINATE   LATITUDE  \\\n",
       "2424     03/12/2020           2           NaN           NaN        NaN   \n",
       "5147     03/12/2020           2           NaN           NaN        NaN   \n",
       "5740     03/12/2020          17  1.172690e+06  1.839172e+06  41.714119   \n",
       "5741     03/12/2020           8  1.143465e+06  1.931491e+06  41.968048   \n",
       "5743     03/12/2020           4  1.149375e+06  1.913029e+06  41.917275   \n",
       "\n",
       "      LONGITUDE                                  LOCATION  \\\n",
       "2424        NaN                                       NaN   \n",
       "5147        NaN                                       NaN   \n",
       "5740 -87.643145  (41.714118868089905, -87.64314540818165)   \n",
       "5741 -87.747876  (41.968048007293845, -87.74787598468126)   \n",
       "5743 -87.726623   (41.91727506940875, -87.72662274644799)   \n",
       "\n",
       "     violation_date_as_date  \n",
       "2424             2020-03-12  \n",
       "5147             2020-03-12  \n",
       "5740             2020-03-12  \n",
       "5741             2020-03-12  \n",
       "5743             2020-03-12  "
      ]
     },
     "execution_count": 13,
     "metadata": {},
     "output_type": "execute_result"
    }
   ],
   "source": [
    "# Violations \n",
    "#feb_2020_df.head()\n",
    "mar_2020_df.head()"
   ]
  },
  {
   "cell_type": "code",
   "execution_count": 14,
   "metadata": {},
   "outputs": [
    {
     "data": {
      "text/plain": [
       "33020"
      ]
     },
     "execution_count": 14,
     "metadata": {},
     "output_type": "execute_result"
    }
   ],
   "source": [
    "jan_2020_df[\"VIOLATIONS\"].sum()"
   ]
  },
  {
   "cell_type": "code",
   "execution_count": 15,
   "metadata": {},
   "outputs": [
    {
     "data": {
      "text/plain": [
       "34524"
      ]
     },
     "execution_count": 15,
     "metadata": {},
     "output_type": "execute_result"
    }
   ],
   "source": [
    "feb_2020_df[\"VIOLATIONS\"].sum()"
   ]
  },
  {
   "cell_type": "code",
   "execution_count": 16,
   "metadata": {},
   "outputs": [
    {
     "data": {
      "text/plain": [
       "34683"
      ]
     },
     "execution_count": 16,
     "metadata": {},
     "output_type": "execute_result"
    }
   ],
   "source": [
    "mar_2020_df[\"VIOLATIONS\"].sum()"
   ]
  },
  {
   "cell_type": "code",
   "execution_count": 17,
   "metadata": {},
   "outputs": [
    {
     "data": {
      "text/plain": [
       "34303"
      ]
     },
     "execution_count": 17,
     "metadata": {},
     "output_type": "execute_result"
    }
   ],
   "source": [
    "apr_2020_df[\"VIOLATIONS\"].sum()"
   ]
  },
  {
   "cell_type": "code",
   "execution_count": 18,
   "metadata": {},
   "outputs": [
    {
     "data": {
      "text/plain": [
       "43889"
      ]
     },
     "execution_count": 18,
     "metadata": {},
     "output_type": "execute_result"
    }
   ],
   "source": [
    "may_2020_df[\"VIOLATIONS\"].sum()"
   ]
  },
  {
   "cell_type": "code",
   "execution_count": 19,
   "metadata": {},
   "outputs": [
    {
     "data": {
      "text/plain": [
       "57156"
      ]
     },
     "execution_count": 19,
     "metadata": {},
     "output_type": "execute_result"
    }
   ],
   "source": [
    "jun_2020_df[\"VIOLATIONS\"].sum()"
   ]
  },
  {
   "cell_type": "code",
   "execution_count": 20,
   "metadata": {},
   "outputs": [
    {
     "data": {
      "text/plain": [
       "56623"
      ]
     },
     "execution_count": 20,
     "metadata": {},
     "output_type": "execute_result"
    }
   ],
   "source": [
    "jul_2020_df[\"VIOLATIONS\"].sum()"
   ]
  },
  {
   "cell_type": "code",
   "execution_count": 21,
   "metadata": {},
   "outputs": [
    {
     "data": {
      "text/plain": [
       "55693"
      ]
     },
     "execution_count": 21,
     "metadata": {},
     "output_type": "execute_result"
    }
   ],
   "source": [
    "aug_2020_df[\"VIOLATIONS\"].sum()"
   ]
  },
  {
   "cell_type": "code",
   "execution_count": 22,
   "metadata": {},
   "outputs": [
    {
     "data": {
      "text/plain": [
       "54153"
      ]
     },
     "execution_count": 22,
     "metadata": {},
     "output_type": "execute_result"
    }
   ],
   "source": [
    "sep_2020_df[\"VIOLATIONS\"].sum()"
   ]
  },
  {
   "cell_type": "code",
   "execution_count": 23,
   "metadata": {},
   "outputs": [
    {
     "data": {
      "text/plain": [
       "51862"
      ]
     },
     "execution_count": 23,
     "metadata": {},
     "output_type": "execute_result"
    }
   ],
   "source": [
    "oct_2020_df[\"VIOLATIONS\"].sum()"
   ]
  },
  {
   "cell_type": "code",
   "execution_count": 24,
   "metadata": {},
   "outputs": [
    {
     "data": {
      "text/plain": [
       "42961"
      ]
     },
     "execution_count": 24,
     "metadata": {},
     "output_type": "execute_result"
    }
   ],
   "source": [
    "nov_2020_df[\"VIOLATIONS\"].sum()"
   ]
  },
  {
   "cell_type": "code",
   "execution_count": 25,
   "metadata": {},
   "outputs": [
    {
     "data": {
      "text/plain": [
       "40855"
      ]
     },
     "execution_count": 25,
     "metadata": {},
     "output_type": "execute_result"
    }
   ],
   "source": [
    "dec_2020_df[\"VIOLATIONS\"].sum()"
   ]
  },
  {
   "cell_type": "code",
   "execution_count": 26,
   "metadata": {},
   "outputs": [
    {
     "data": {
      "text/plain": [
       "35456"
      ]
     },
     "execution_count": 26,
     "metadata": {},
     "output_type": "execute_result"
    }
   ],
   "source": [
    "jan_2021_df[\"VIOLATIONS\"].sum()"
   ]
  },
  {
   "cell_type": "code",
   "execution_count": 27,
   "metadata": {},
   "outputs": [
    {
     "data": {
      "text/plain": [
       "33114"
      ]
     },
     "execution_count": 27,
     "metadata": {},
     "output_type": "execute_result"
    }
   ],
   "source": [
    "feb_2021_df[\"VIOLATIONS\"].sum()"
   ]
  },
  {
   "cell_type": "code",
   "execution_count": 28,
   "metadata": {},
   "outputs": [
    {
     "data": {
      "text/plain": [
       "18162"
      ]
     },
     "execution_count": 28,
     "metadata": {},
     "output_type": "execute_result"
    }
   ],
   "source": [
    "mar_2021_df[\"VIOLATIONS\"].sum()"
   ]
  },
  {
   "cell_type": "code",
   "execution_count": 30,
   "metadata": {},
   "outputs": [],
   "source": [
    "# Yearly Summary Graph\n",
    "\n",
    "Months_in_2020 = [\"January\", \"February\", \"March\", \"April\", \"May\", \"June\",\n",
    "                \"July\",\"August\", \"September\", \"October\", \"November\", \"December\"]\n",
    "number_red_violations = [33020, 34524, 34683, 34303, 43889, 57156, 56623, 55693, 54153, 51862, 42961, 40855]\n",
    "x_axis = np.arange(len(number_red_violations))\n",
    "x_axis = Months_in_2020"
   ]
  },
  {
   "cell_type": "code",
   "execution_count": 31,
   "metadata": {},
   "outputs": [
    {
     "data": {
      "text/plain": [
       "<BarContainer object of 12 artists>"
      ]
     },
     "execution_count": 31,
     "metadata": {},
     "output_type": "execute_result"
    },
    {
     "data": {
      "image/png": "[encoded data removed]",
      "text/plain": [
       "<Figure size 432x288 with 1 Axes>"
      ]
     },
     "metadata": {
      "needs_background": "light"
     },
     "output_type": "display_data"
    }
   ],
   "source": [
    "#bar plot generation\n",
    "plt.xticks(rotation = 45)\n",
    "plt.title(\"Chicago Red Light Violations in 2020\")\n",
    "plt.xlabel(\"Months in 2020\")\n",
    "plt.ylabel(\"Number of Red Light Violations\")\n",
    "plt.bar(x_axis, number_red_violations, color=\"r\", align=\"center\")"
   ]
  },
  {
   "cell_type": "code",
   "execution_count": 32,
   "metadata": {},
   "outputs": [],
   "source": [
    "# Dates 2019 \n",
    "\n",
    "jan_start_date_19 = \"2019-01-01\" \n",
    "jan_end_date_19 = \"2019-01-31\"\n",
    "feb_start_date_19 = \"2019-02-01\" \n",
    "feb_end_date_19 = \"2019-02-28\"\n",
    "mar_start_date_19 = \"2019-03-01\" \n",
    "mar_end_date_19 = \"2019-03-31\"\n",
    "apr_start_date_19 = \"2019-04-01\" \n",
    "apr_end_date_19 = \"2019-04-30\"\n",
    "may_start_date_19 = \"2019-05-01\" \n",
    "may_end_date_19 = \"2019-05-31\"\n",
    "jun_start_date_19 = \"2019-06-01\" \n",
    "jun_end_date_19 = \"2019-06-30\"\n",
    "jul_start_date_19 = \"2019-07-01\" \n",
    "jul_end_date_19 = \"2019-07-31\"\n",
    "aug_start_date_19 = \"2019-08-01\" \n",
    "aug_end_date_19 = \"2019-08-30\"\n",
    "sep_start_date_19 = \"2019-09-01\" \n",
    "sep_end_date_19 = \"2019-09-30\"\n",
    "oct_start_date_19 = \"2019-10-01\" \n",
    "oct_end_date_19 = \"2019-10-31\"\n",
    "nov_start_date_19 = \"2019-11-01\" \n",
    "nov_end_date_19 = \"2019-11-30\"\n",
    "dec_start_date_19 = \"2019-12-01\" \n",
    "dec_end_date_19 = \"2019-12-31\""
   ]
  },
  {
   "cell_type": "code",
   "execution_count": 33,
   "metadata": {},
   "outputs": [],
   "source": [
    "# Month DF\n",
    "\n",
    "jan_2019_df = violation_df.loc[(violation_df[\"violation_date_as_date\"] > jan_start_date_19) & (violation_df[\"violation_date_as_date\"] <= jan_end_date_19)]\n",
    "feb_2019_df = violation_df.loc[(violation_df[\"violation_date_as_date\"] > feb_start_date_19) & (violation_df[\"violation_date_as_date\"] <= feb_end_date_19)]\n",
    "mar_2019_df = violation_df.loc[(violation_df[\"violation_date_as_date\"] > mar_start_date_19) & (violation_df[\"violation_date_as_date\"] <= mar_end_date_19)]\n",
    "apr_2019_df = violation_df.loc[(violation_df[\"violation_date_as_date\"] > apr_start_date_19) & (violation_df[\"violation_date_as_date\"] <= apr_end_date_19)]\n",
    "may_2019_df = violation_df.loc[(violation_df[\"violation_date_as_date\"] > may_start_date_19) & (violation_df[\"violation_date_as_date\"] <= may_end_date_19)]\n",
    "jun_2019_df = violation_df.loc[(violation_df[\"violation_date_as_date\"] > jun_start_date_19) & (violation_df[\"violation_date_as_date\"] <= jun_end_date_19)]\n",
    "jul_2019_df = violation_df.loc[(violation_df[\"violation_date_as_date\"] > jul_start_date_19) & (violation_df[\"violation_date_as_date\"] <= jul_end_date_19)]\n",
    "aug_2019_df = violation_df.loc[(violation_df[\"violation_date_as_date\"] > aug_start_date_19) & (violation_df[\"violation_date_as_date\"] <= aug_end_date_19)]\n",
    "sep_2019_df = violation_df.loc[(violation_df[\"violation_date_as_date\"] > sep_start_date_19) & (violation_df[\"violation_date_as_date\"] <= sep_end_date_19)]\n",
    "oct_2019_df = violation_df.loc[(violation_df[\"violation_date_as_date\"] > oct_start_date_19) & (violation_df[\"violation_date_as_date\"] <= oct_end_date_19)]\n",
    "nov_2019_df = violation_df.loc[(violation_df[\"violation_date_as_date\"] > nov_start_date_19) & (violation_df[\"violation_date_as_date\"] <= nov_end_date_19)]\n",
    "dec_2019_df = violation_df.loc[(violation_df[\"violation_date_as_date\"] > dec_start_date_19) & (violation_df[\"violation_date_as_date\"] <= dec_end_date_19)]\n"
   ]
  },
  {
   "cell_type": "code",
   "execution_count": 35,
   "metadata": {},
   "outputs": [
    {
     "data": {
      "text/plain": [
       "29674"
      ]
     },
     "execution_count": 35,
     "metadata": {},
     "output_type": "execute_result"
    }
   ],
   "source": [
    "jan_2019_df[\"VIOLATIONS\"].sum()\n"
   ]
  },
  {
   "cell_type": "code",
   "execution_count": 36,
   "metadata": {},
   "outputs": [
    {
     "data": {
      "text/plain": [
       "31270"
      ]
     },
     "execution_count": 36,
     "metadata": {},
     "output_type": "execute_result"
    }
   ],
   "source": [
    "feb_2019_df[\"VIOLATIONS\"].sum()"
   ]
  },
  {
   "cell_type": "code",
   "execution_count": 37,
   "metadata": {},
   "outputs": [
    {
     "data": {
      "text/plain": [
       "41447"
      ]
     },
     "execution_count": 37,
     "metadata": {},
     "output_type": "execute_result"
    }
   ],
   "source": [
    "mar_2019_df[\"VIOLATIONS\"].sum()"
   ]
  },
  {
   "cell_type": "code",
   "execution_count": 38,
   "metadata": {},
   "outputs": [
    {
     "data": {
      "text/plain": [
       "41407"
      ]
     },
     "execution_count": 38,
     "metadata": {},
     "output_type": "execute_result"
    }
   ],
   "source": [
    "apr_2019_df[\"VIOLATIONS\"].sum()"
   ]
  },
  {
   "cell_type": "code",
   "execution_count": 39,
   "metadata": {},
   "outputs": [
    {
     "data": {
      "text/plain": [
       "48732"
      ]
     },
     "execution_count": 39,
     "metadata": {},
     "output_type": "execute_result"
    }
   ],
   "source": [
    "may_2019_df[\"VIOLATIONS\"].sum()"
   ]
  },
  {
   "cell_type": "code",
   "execution_count": 40,
   "metadata": {},
   "outputs": [
    {
     "data": {
      "text/plain": [
       "51678"
      ]
     },
     "execution_count": 40,
     "metadata": {},
     "output_type": "execute_result"
    }
   ],
   "source": [
    "jun_2019_df[\"VIOLATIONS\"].sum()"
   ]
  },
  {
   "cell_type": "code",
   "execution_count": 41,
   "metadata": {},
   "outputs": [
    {
     "data": {
      "text/plain": [
       "51662"
      ]
     },
     "execution_count": 41,
     "metadata": {},
     "output_type": "execute_result"
    }
   ],
   "source": [
    "jul_2019_df[\"VIOLATIONS\"].sum()"
   ]
  },
  {
   "cell_type": "code",
   "execution_count": 42,
   "metadata": {},
   "outputs": [
    {
     "data": {
      "text/plain": [
       "49453"
      ]
     },
     "execution_count": 42,
     "metadata": {},
     "output_type": "execute_result"
    }
   ],
   "source": [
    "aug_2019_df[\"VIOLATIONS\"].sum()"
   ]
  },
  {
   "cell_type": "code",
   "execution_count": 43,
   "metadata": {},
   "outputs": [
    {
     "data": {
      "text/plain": [
       "45386"
      ]
     },
     "execution_count": 43,
     "metadata": {},
     "output_type": "execute_result"
    }
   ],
   "source": [
    "sep_2019_df[\"VIOLATIONS\"].sum()"
   ]
  },
  {
   "cell_type": "code",
   "execution_count": 44,
   "metadata": {},
   "outputs": [
    {
     "data": {
      "text/plain": [
       "43323"
      ]
     },
     "execution_count": 44,
     "metadata": {},
     "output_type": "execute_result"
    }
   ],
   "source": [
    "oct_2019_df[\"VIOLATIONS\"].sum()"
   ]
  },
  {
   "cell_type": "code",
   "execution_count": 45,
   "metadata": {},
   "outputs": [
    {
     "data": {
      "text/plain": [
       "37792"
      ]
     },
     "execution_count": 45,
     "metadata": {},
     "output_type": "execute_result"
    }
   ],
   "source": [
    "nov_2019_df[\"VIOLATIONS\"].sum()"
   ]
  },
  {
   "cell_type": "code",
   "execution_count": 46,
   "metadata": {},
   "outputs": [
    {
     "data": {
      "text/plain": [
       "38725"
      ]
     },
     "execution_count": 46,
     "metadata": {},
     "output_type": "execute_result"
    }
   ],
   "source": [
    "dec_2019_df[\"VIOLATIONS\"].sum()"
   ]
  },
  {
   "cell_type": "code",
   "execution_count": 47,
   "metadata": {},
   "outputs": [],
   "source": [
    "# Yearly Summary Graph\n",
    "\n",
    "Months_in_2019 = [\"January\", \"February\", \"March\", \"April\", \"May\", \"June\",\n",
    "                \"July\",\"August\", \"September\", \"October\", \"November\", \"December\"]\n",
    "number_red_violations = [29674, 31270, 41447, 41407, 48732, 51678, 51662, 49453, 45386, 43323, 37792, 38725]\n",
    "x_axis = np.arange(len(number_red_violations))\n",
    "x_axis = Months_in_2019"
   ]
  },
  {
   "cell_type": "code",
   "execution_count": 48,
   "metadata": {},
   "outputs": [
    {
     "data": {
      "text/plain": [
       "<BarContainer object of 12 artists>"
      ]
     },
     "execution_count": 48,
     "metadata": {},
     "output_type": "execute_result"
    },
    {
     "data": {
      "image/png": "[encoded data removed]",
      "text/plain": [
       "<Figure size 432x288 with 1 Axes>"
      ]
     },
     "metadata": {
      "needs_background": "light"
     },
     "output_type": "display_data"
    }
   ],
   "source": [
    "#bar plot generation\n",
    "plt.xticks(rotation = 45)\n",
    "plt.title(\"Chicago Red Light Violations in 2019\")\n",
    "plt.xlabel(\"Months in 2019\")\n",
    "plt.ylabel(\"Number of Red Light Violations\")\n",
    "plt.bar(x_axis, number_red_violations, color=\"r\", align=\"center\")"
   ]
  },
  {
   "cell_type": "code",
   "execution_count": null,
   "metadata": {},
   "outputs": [],
   "source": []
  }
 ],
 "metadata": {
  "kernelspec": {
   "display_name": "Python 3",
   "language": "python",
   "name": "python3"
  },
  "language_info": {
   "codemirror_mode": {
    "name": "ipython",
    "version": 3
   },
   "file_extension": ".py",
   "mimetype": "text/x-python",
   "name": "python",
   "nbconvert_exporter": "python",
   "pygments_lexer": "ipython3",
   "version": "3.8.5"
  }
 },
 "nbformat": 4,
 "nbformat_minor": 4
}
