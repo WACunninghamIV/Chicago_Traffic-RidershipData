{
 "cells": [
  {
   "cell_type": "code",
   "execution_count": 45,
   "metadata": {},
   "outputs": [],
   "source": [
    "# Import packages \n",
    "import pandas as pd\n",
    "import matplotlib.pyplot as plt\n",
    "import numpy as np\n",
    "import datetime"
   ]
  },
  {
   "cell_type": "code",
   "execution_count": 46,
   "metadata": {},
   "outputs": [],
   "source": [
    "# Store filepath in a variable\n",
    "violation = \"Red_Light_Camera_Violations.csv\""
   ]
  },
  {
   "cell_type": "code",
   "execution_count": 47,
   "metadata": {},
   "outputs": [],
   "source": [
    "#!cd Resources/ && unzip Red_Light_Camera_Violations.csv.zip"
   ]
  },
  {
   "cell_type": "code",
   "execution_count": 48,
   "metadata": {},
   "outputs": [],
   "source": [
    "!open ."
   ]
  },
  {
   "cell_type": "code",
   "execution_count": 49,
   "metadata": {},
   "outputs": [],
   "source": [
    "violation_df = pd.read_csv(\"Resources/Red_Light_Camera_Violations.csv\", encoding=\"UTF-8\")"
   ]
  },
  {
   "cell_type": "code",
   "execution_count": 50,
   "metadata": {},
   "outputs": [
    {
     "data": {
      "text/html": [
       "<div>\n",
       "<style scoped>\n",
       "    .dataframe tbody tr th:only-of-type {\n",
       "        vertical-align: middle;\n",
       "    }\n",
       "\n",
       "    .dataframe tbody tr th {\n",
       "        vertical-align: top;\n",
       "    }\n",
       "\n",
       "    .dataframe thead th {\n",
       "        text-align: right;\n",
       "    }\n",
       "</style>\n",
       "<table border=\"1\" class=\"dataframe\">\n",
       "  <thead>\n",
       "    <tr style=\"text-align: right;\">\n",
       "      <th></th>\n",
       "      <th>INTERSECTION</th>\n",
       "      <th>CAMERA ID</th>\n",
       "      <th>ADDRESS</th>\n",
       "      <th>VIOLATION DATE</th>\n",
       "      <th>VIOLATIONS</th>\n",
       "      <th>X COORDINATE</th>\n",
       "      <th>Y COORDINATE</th>\n",
       "      <th>LATITUDE</th>\n",
       "      <th>LONGITUDE</th>\n",
       "      <th>LOCATION</th>\n",
       "    </tr>\n",
       "  </thead>\n",
       "  <tbody>\n",
       "    <tr>\n",
       "      <th>0</th>\n",
       "      <td>IRVING PARK AND KILPATRICK</td>\n",
       "      <td>2763.0</td>\n",
       "      <td>4700 W IRVING PARK ROA</td>\n",
       "      <td>04/09/2015</td>\n",
       "      <td>4</td>\n",
       "      <td>NaN</td>\n",
       "      <td>NaN</td>\n",
       "      <td>NaN</td>\n",
       "      <td>NaN</td>\n",
       "      <td>NaN</td>\n",
       "    </tr>\n",
       "    <tr>\n",
       "      <th>1</th>\n",
       "      <td>VAN BUREN AND WESTERN</td>\n",
       "      <td>2054.0</td>\n",
       "      <td>2400 W VAN BUREN STREE</td>\n",
       "      <td>04/14/2015</td>\n",
       "      <td>5</td>\n",
       "      <td>NaN</td>\n",
       "      <td>NaN</td>\n",
       "      <td>NaN</td>\n",
       "      <td>NaN</td>\n",
       "      <td>NaN</td>\n",
       "    </tr>\n",
       "    <tr>\n",
       "      <th>2</th>\n",
       "      <td>115TH AND HALSTED</td>\n",
       "      <td>2552.0</td>\n",
       "      <td>11500 S HALSTED STREE</td>\n",
       "      <td>04/08/2015</td>\n",
       "      <td>5</td>\n",
       "      <td>NaN</td>\n",
       "      <td>NaN</td>\n",
       "      <td>NaN</td>\n",
       "      <td>NaN</td>\n",
       "      <td>NaN</td>\n",
       "    </tr>\n",
       "    <tr>\n",
       "      <th>3</th>\n",
       "      <td>IRVING PARK AND KILPATRICK</td>\n",
       "      <td>2764.0</td>\n",
       "      <td>4700 W IRVING PARK ROA</td>\n",
       "      <td>04/19/2015</td>\n",
       "      <td>4</td>\n",
       "      <td>NaN</td>\n",
       "      <td>NaN</td>\n",
       "      <td>NaN</td>\n",
       "      <td>NaN</td>\n",
       "      <td>NaN</td>\n",
       "    </tr>\n",
       "    <tr>\n",
       "      <th>4</th>\n",
       "      <td>ELSTON AND IRVING PARK</td>\n",
       "      <td>1503.0</td>\n",
       "      <td>3700 W IRVING PARK ROA</td>\n",
       "      <td>04/23/2015</td>\n",
       "      <td>3</td>\n",
       "      <td>NaN</td>\n",
       "      <td>NaN</td>\n",
       "      <td>NaN</td>\n",
       "      <td>NaN</td>\n",
       "      <td>NaN</td>\n",
       "    </tr>\n",
       "  </tbody>\n",
       "</table>\n",
       "</div>"
      ],
      "text/plain": [
       "                 INTERSECTION  CAMERA ID                 ADDRESS  \\\n",
       "0  IRVING PARK AND KILPATRICK     2763.0  4700 W IRVING PARK ROA   \n",
       "1       VAN BUREN AND WESTERN     2054.0  2400 W VAN BUREN STREE   \n",
       "2           115TH AND HALSTED     2552.0   11500 S HALSTED STREE   \n",
       "3  IRVING PARK AND KILPATRICK     2764.0  4700 W IRVING PARK ROA   \n",
       "4      ELSTON AND IRVING PARK     1503.0  3700 W IRVING PARK ROA   \n",
       "\n",
       "  VIOLATION DATE  VIOLATIONS  X COORDINATE  Y COORDINATE  LATITUDE  LONGITUDE  \\\n",
       "0     04/09/2015           4           NaN           NaN       NaN        NaN   \n",
       "1     04/14/2015           5           NaN           NaN       NaN        NaN   \n",
       "2     04/08/2015           5           NaN           NaN       NaN        NaN   \n",
       "3     04/19/2015           4           NaN           NaN       NaN        NaN   \n",
       "4     04/23/2015           3           NaN           NaN       NaN        NaN   \n",
       "\n",
       "  LOCATION  \n",
       "0      NaN  \n",
       "1      NaN  \n",
       "2      NaN  \n",
       "3      NaN  \n",
       "4      NaN  "
      ]
     },
     "execution_count": 50,
     "metadata": {},
     "output_type": "execute_result"
    }
   ],
   "source": [
    "violation_df.head()"
   ]
  },
  {
   "cell_type": "code",
   "execution_count": 53,
   "metadata": {},
   "outputs": [],
   "source": [
    "violation_df[\"VIOLATION DATE\"] = pd.to_datetime(violation_df[\"VIOLATION DATE\"])"
   ]
  },
  {
   "cell_type": "code",
   "execution_count": 54,
   "metadata": {},
   "outputs": [],
   "source": [
    "violation_df['year'] = violation_df['VIOLATION DATE'].dt.year\n",
    "violation_df['month'] = violation_df['VIOLATION DATE'].dt.month"
   ]
  },
  {
   "cell_type": "code",
   "execution_count": 75,
   "metadata": {},
   "outputs": [],
   "source": [
    "df_19 = violation_df.loc[(violation_df[\"year\"]==2019)]\n",
    "df_20 = violation_df.loc[(violation_df[\"year\"]==2020)]"
   ]
  },
  {
   "cell_type": "code",
   "execution_count": 76,
   "metadata": {},
   "outputs": [
    {
     "data": {
      "text/html": [
       "<div>\n",
       "<style scoped>\n",
       "    .dataframe tbody tr th:only-of-type {\n",
       "        vertical-align: middle;\n",
       "    }\n",
       "\n",
       "    .dataframe tbody tr th {\n",
       "        vertical-align: top;\n",
       "    }\n",
       "\n",
       "    .dataframe thead th {\n",
       "        text-align: right;\n",
       "    }\n",
       "</style>\n",
       "<table border=\"1\" class=\"dataframe\">\n",
       "  <thead>\n",
       "    <tr style=\"text-align: right;\">\n",
       "      <th></th>\n",
       "      <th>INTERSECTION</th>\n",
       "      <th>CAMERA ID</th>\n",
       "      <th>ADDRESS</th>\n",
       "      <th>VIOLATION DATE</th>\n",
       "      <th>VIOLATIONS</th>\n",
       "      <th>X COORDINATE</th>\n",
       "      <th>Y COORDINATE</th>\n",
       "      <th>LATITUDE</th>\n",
       "      <th>LONGITUDE</th>\n",
       "      <th>LOCATION</th>\n",
       "      <th>violation_date_as_date</th>\n",
       "      <th>year</th>\n",
       "      <th>month</th>\n",
       "    </tr>\n",
       "  </thead>\n",
       "  <tbody>\n",
       "    <tr>\n",
       "      <th>7</th>\n",
       "      <td>4700 WESTERN</td>\n",
       "      <td>2141.0</td>\n",
       "      <td>4700 S WESTERN AVENUE</td>\n",
       "      <td>2019-06-05</td>\n",
       "      <td>3</td>\n",
       "      <td>1.161120e+06</td>\n",
       "      <td>1.873431e+06</td>\n",
       "      <td>41.808378</td>\n",
       "      <td>-87.684571</td>\n",
       "      <td>(41.808378407946726, -87.68457071689552)</td>\n",
       "      <td>2019-06-05</td>\n",
       "      <td>2019</td>\n",
       "      <td>6</td>\n",
       "    </tr>\n",
       "    <tr>\n",
       "      <th>9</th>\n",
       "      <td>WESTERN AND DEVON</td>\n",
       "      <td>1211.0</td>\n",
       "      <td>6400 N WESTERN AVENUE</td>\n",
       "      <td>2019-06-05</td>\n",
       "      <td>2</td>\n",
       "      <td>1.159114e+06</td>\n",
       "      <td>1.942452e+06</td>\n",
       "      <td>41.997818</td>\n",
       "      <td>-87.690033</td>\n",
       "      <td>(41.997817807026, -87.69003303469276)</td>\n",
       "      <td>2019-06-05</td>\n",
       "      <td>2019</td>\n",
       "      <td>6</td>\n",
       "    </tr>\n",
       "    <tr>\n",
       "      <th>13</th>\n",
       "      <td>CICERO AND ADDISON</td>\n",
       "      <td>1612.0</td>\n",
       "      <td>3600 N CICERO AVENUE</td>\n",
       "      <td>2019-06-05</td>\n",
       "      <td>7</td>\n",
       "      <td>1.143699e+06</td>\n",
       "      <td>1.923517e+06</td>\n",
       "      <td>41.946164</td>\n",
       "      <td>-87.747215</td>\n",
       "      <td>(41.94616352362556, -87.74721516897007)</td>\n",
       "      <td>2019-06-05</td>\n",
       "      <td>2019</td>\n",
       "      <td>6</td>\n",
       "    </tr>\n",
       "    <tr>\n",
       "      <th>15</th>\n",
       "      <td>LAKE SHORE DR AND BELMONT</td>\n",
       "      <td>1413.0</td>\n",
       "      <td>400 W BELMONT AVE</td>\n",
       "      <td>2019-06-05</td>\n",
       "      <td>75</td>\n",
       "      <td>1.172982e+06</td>\n",
       "      <td>1.921577e+06</td>\n",
       "      <td>41.940241</td>\n",
       "      <td>-87.639639</td>\n",
       "      <td>(41.94024119325571, -87.63963911427594)</td>\n",
       "      <td>2019-06-05</td>\n",
       "      <td>2019</td>\n",
       "      <td>6</td>\n",
       "    </tr>\n",
       "    <tr>\n",
       "      <th>18</th>\n",
       "      <td>SACRAMENTO AND CHICAGO</td>\n",
       "      <td>1814.0</td>\n",
       "      <td>3000 W CHICAGO AVENUE</td>\n",
       "      <td>2019-06-05</td>\n",
       "      <td>8</td>\n",
       "      <td>1.156075e+06</td>\n",
       "      <td>1.905217e+06</td>\n",
       "      <td>41.895705</td>\n",
       "      <td>-87.702219</td>\n",
       "      <td>(41.895704524946225, -87.70221852353758)</td>\n",
       "      <td>2019-06-05</td>\n",
       "      <td>2019</td>\n",
       "      <td>6</td>\n",
       "    </tr>\n",
       "  </tbody>\n",
       "</table>\n",
       "</div>"
      ],
      "text/plain": [
       "                 INTERSECTION  CAMERA ID                ADDRESS  \\\n",
       "7                4700 WESTERN     2141.0  4700 S WESTERN AVENUE   \n",
       "9           WESTERN AND DEVON     1211.0  6400 N WESTERN AVENUE   \n",
       "13         CICERO AND ADDISON     1612.0   3600 N CICERO AVENUE   \n",
       "15  LAKE SHORE DR AND BELMONT     1413.0      400 W BELMONT AVE   \n",
       "18     SACRAMENTO AND CHICAGO     1814.0  3000 W CHICAGO AVENUE   \n",
       "\n",
       "   VIOLATION DATE  VIOLATIONS  X COORDINATE  Y COORDINATE   LATITUDE  \\\n",
       "7      2019-06-05           3  1.161120e+06  1.873431e+06  41.808378   \n",
       "9      2019-06-05           2  1.159114e+06  1.942452e+06  41.997818   \n",
       "13     2019-06-05           7  1.143699e+06  1.923517e+06  41.946164   \n",
       "15     2019-06-05          75  1.172982e+06  1.921577e+06  41.940241   \n",
       "18     2019-06-05           8  1.156075e+06  1.905217e+06  41.895705   \n",
       "\n",
       "    LONGITUDE                                  LOCATION  \\\n",
       "7  -87.684571  (41.808378407946726, -87.68457071689552)   \n",
       "9  -87.690033     (41.997817807026, -87.69003303469276)   \n",
       "13 -87.747215   (41.94616352362556, -87.74721516897007)   \n",
       "15 -87.639639   (41.94024119325571, -87.63963911427594)   \n",
       "18 -87.702219  (41.895704524946225, -87.70221852353758)   \n",
       "\n",
       "   violation_date_as_date  year  month  \n",
       "7              2019-06-05  2019      6  \n",
       "9              2019-06-05  2019      6  \n",
       "13             2019-06-05  2019      6  \n",
       "15             2019-06-05  2019      6  \n",
       "18             2019-06-05  2019      6  "
      ]
     },
     "execution_count": 76,
     "metadata": {},
     "output_type": "execute_result"
    }
   ],
   "source": [
    "df_19.head()"
   ]
  },
  {
   "cell_type": "code",
   "execution_count": 71,
   "metadata": {},
   "outputs": [],
   "source": [
    "month_2019 = pd.DataFrame(df_19.groupby(\"month\")[\"VIOLATIONS\"].sum()).reset_index()"
   ]
  },
  {
   "cell_type": "code",
   "execution_count": 72,
   "metadata": {},
   "outputs": [
    {
     "data": {
      "text/html": [
       "<div>\n",
       "<style scoped>\n",
       "    .dataframe tbody tr th:only-of-type {\n",
       "        vertical-align: middle;\n",
       "    }\n",
       "\n",
       "    .dataframe tbody tr th {\n",
       "        vertical-align: top;\n",
       "    }\n",
       "\n",
       "    .dataframe thead th {\n",
       "        text-align: right;\n",
       "    }\n",
       "</style>\n",
       "<table border=\"1\" class=\"dataframe\">\n",
       "  <thead>\n",
       "    <tr style=\"text-align: right;\">\n",
       "      <th></th>\n",
       "      <th>month</th>\n",
       "      <th>VIOLATIONS</th>\n",
       "    </tr>\n",
       "  </thead>\n",
       "  <tbody>\n",
       "    <tr>\n",
       "      <th>0</th>\n",
       "      <td>1</td>\n",
       "      <td>30818</td>\n",
       "    </tr>\n",
       "    <tr>\n",
       "      <th>1</th>\n",
       "      <td>2</td>\n",
       "      <td>32434</td>\n",
       "    </tr>\n",
       "    <tr>\n",
       "      <th>2</th>\n",
       "      <td>3</td>\n",
       "      <td>42812</td>\n",
       "    </tr>\n",
       "    <tr>\n",
       "      <th>3</th>\n",
       "      <td>4</td>\n",
       "      <td>42792</td>\n",
       "    </tr>\n",
       "    <tr>\n",
       "      <th>4</th>\n",
       "      <td>5</td>\n",
       "      <td>50148</td>\n",
       "    </tr>\n",
       "    <tr>\n",
       "      <th>5</th>\n",
       "      <td>6</td>\n",
       "      <td>53573</td>\n",
       "    </tr>\n",
       "    <tr>\n",
       "      <th>6</th>\n",
       "      <td>7</td>\n",
       "      <td>53467</td>\n",
       "    </tr>\n",
       "    <tr>\n",
       "      <th>7</th>\n",
       "      <td>8</td>\n",
       "      <td>52991</td>\n",
       "    </tr>\n",
       "    <tr>\n",
       "      <th>8</th>\n",
       "      <td>9</td>\n",
       "      <td>46954</td>\n",
       "    </tr>\n",
       "    <tr>\n",
       "      <th>9</th>\n",
       "      <td>10</td>\n",
       "      <td>44695</td>\n",
       "    </tr>\n",
       "    <tr>\n",
       "      <th>10</th>\n",
       "      <td>11</td>\n",
       "      <td>39312</td>\n",
       "    </tr>\n",
       "    <tr>\n",
       "      <th>11</th>\n",
       "      <td>12</td>\n",
       "      <td>40007</td>\n",
       "    </tr>\n",
       "  </tbody>\n",
       "</table>\n",
       "</div>"
      ],
      "text/plain": [
       "    month  VIOLATIONS\n",
       "0       1       30818\n",
       "1       2       32434\n",
       "2       3       42812\n",
       "3       4       42792\n",
       "4       5       50148\n",
       "5       6       53573\n",
       "6       7       53467\n",
       "7       8       52991\n",
       "8       9       46954\n",
       "9      10       44695\n",
       "10     11       39312\n",
       "11     12       40007"
      ]
     },
     "execution_count": 72,
     "metadata": {},
     "output_type": "execute_result"
    }
   ],
   "source": [
    "month_2019"
   ]
  },
  {
   "cell_type": "code",
   "execution_count": 73,
   "metadata": {},
   "outputs": [],
   "source": [
    "month_2020 = pd.DataFrame(df_20.groupby(\"month\")[\"VIOLATIONS\"].sum()).reset_index()"
   ]
  },
  {
   "cell_type": "code",
   "execution_count": 74,
   "metadata": {},
   "outputs": [
    {
     "data": {
      "text/html": [
       "<div>\n",
       "<style scoped>\n",
       "    .dataframe tbody tr th:only-of-type {\n",
       "        vertical-align: middle;\n",
       "    }\n",
       "\n",
       "    .dataframe tbody tr th {\n",
       "        vertical-align: top;\n",
       "    }\n",
       "\n",
       "    .dataframe thead th {\n",
       "        text-align: right;\n",
       "    }\n",
       "</style>\n",
       "<table border=\"1\" class=\"dataframe\">\n",
       "  <thead>\n",
       "    <tr style=\"text-align: right;\">\n",
       "      <th></th>\n",
       "      <th>month</th>\n",
       "      <th>VIOLATIONS</th>\n",
       "    </tr>\n",
       "  </thead>\n",
       "  <tbody>\n",
       "    <tr>\n",
       "      <th>0</th>\n",
       "      <td>1</td>\n",
       "      <td>34345</td>\n",
       "    </tr>\n",
       "    <tr>\n",
       "      <th>1</th>\n",
       "      <td>2</td>\n",
       "      <td>35772</td>\n",
       "    </tr>\n",
       "    <tr>\n",
       "      <th>2</th>\n",
       "      <td>3</td>\n",
       "      <td>36336</td>\n",
       "    </tr>\n",
       "    <tr>\n",
       "      <th>3</th>\n",
       "      <td>4</td>\n",
       "      <td>35358</td>\n",
       "    </tr>\n",
       "    <tr>\n",
       "      <th>4</th>\n",
       "      <td>5</td>\n",
       "      <td>45262</td>\n",
       "    </tr>\n",
       "    <tr>\n",
       "      <th>5</th>\n",
       "      <td>6</td>\n",
       "      <td>59489</td>\n",
       "    </tr>\n",
       "    <tr>\n",
       "      <th>6</th>\n",
       "      <td>7</td>\n",
       "      <td>58565</td>\n",
       "    </tr>\n",
       "    <tr>\n",
       "      <th>7</th>\n",
       "      <td>8</td>\n",
       "      <td>59383</td>\n",
       "    </tr>\n",
       "    <tr>\n",
       "      <th>8</th>\n",
       "      <td>9</td>\n",
       "      <td>55594</td>\n",
       "    </tr>\n",
       "    <tr>\n",
       "      <th>9</th>\n",
       "      <td>10</td>\n",
       "      <td>53693</td>\n",
       "    </tr>\n",
       "    <tr>\n",
       "      <th>10</th>\n",
       "      <td>11</td>\n",
       "      <td>44759</td>\n",
       "    </tr>\n",
       "    <tr>\n",
       "      <th>11</th>\n",
       "      <td>12</td>\n",
       "      <td>42064</td>\n",
       "    </tr>\n",
       "  </tbody>\n",
       "</table>\n",
       "</div>"
      ],
      "text/plain": [
       "    month  VIOLATIONS\n",
       "0       1       34345\n",
       "1       2       35772\n",
       "2       3       36336\n",
       "3       4       35358\n",
       "4       5       45262\n",
       "5       6       59489\n",
       "6       7       58565\n",
       "7       8       59383\n",
       "8       9       55594\n",
       "9      10       53693\n",
       "10     11       44759\n",
       "11     12       42064"
      ]
     },
     "execution_count": 74,
     "metadata": {},
     "output_type": "execute_result"
    }
   ],
   "source": [
    "month_2020"
   ]
  },
  {
   "cell_type": "code",
   "execution_count": 77,
   "metadata": {},
   "outputs": [],
   "source": [
    "# Yearly Summary Graph\n",
    "\n",
    "Months_in_2020 = [\"January\", \"February\", \"March\", \"April\", \"May\", \"June\",\n",
    "                \"July\",\"August\", \"September\", \"October\", \"November\", \"December\"]\n",
    "number_red_violations = [34345, 35772, 36336, 35358, 45262, 59489, 58565, 59383, 55594, 53693, 44759, 42064]\n",
    "x_axis = np.arange(len(number_red_violations))\n",
    "x_axis = Months_in_2020"
   ]
  },
  {
   "cell_type": "code",
   "execution_count": 78,
   "metadata": {},
   "outputs": [
    {
     "data": {
      "text/plain": [
       "<BarContainer object of 12 artists>"
      ]
     },
     "execution_count": 78,
     "metadata": {},
     "output_type": "execute_result"
    },
    {
     "data": {
      "image/png": "[encoded data removed]",
      "text/plain": [
       "<Figure size 432x288 with 1 Axes>"
      ]
     },
     "metadata": {
      "needs_background": "light"
     },
     "output_type": "display_data"
    }
   ],
   "source": [
    "#bar plot generation\n",
    "plt.xticks(rotation = 45)\n",
    "plt.title(\"Chicago Red Light Violations in 2020\")\n",
    "plt.xlabel(\"Months in 2020\")\n",
    "plt.ylabel(\"Number of Red Light Violations\")\n",
    "plt.savefig(\"2020_red_light\")\n",
    "plt.bar(x_axis, number_red_violations, color=\"r\", align=\"center\")"
   ]
  },
  {
   "cell_type": "code",
   "execution_count": 79,
   "metadata": {},
   "outputs": [],
   "source": [
    "# Yearly Summary Graph\n",
    "\n",
    "Months_in_2019 = [\"January\", \"February\", \"March\", \"April\", \"May\", \"June\",\n",
    "                \"July\",\"August\", \"September\", \"October\", \"November\", \"December\"]\n",
    "number_red_violations = [30818, 32434, 42812, 42792, 50148, 53573, 53467, 52991, 46954, 44695, 39312, 40007]\n",
    "x_axis = np.arange(len(number_red_violations))\n",
    "x_axis = Months_in_2019"
   ]
  },
  {
   "cell_type": "code",
   "execution_count": 80,
   "metadata": {},
   "outputs": [
    {
     "data": {
      "text/plain": [
       "<BarContainer object of 12 artists>"
      ]
     },
     "execution_count": 80,
     "metadata": {},
     "output_type": "execute_result"
    },
    {
     "data": {
      "image/png": "[encoded data removed]",
      "text/plain": [
       "<Figure size 432x288 with 1 Axes>"
      ]
     },
     "metadata": {
      "needs_background": "light"
     },
     "output_type": "display_data"
    }
   ],
   "source": [
    "#bar plot generation\n",
    "plt.xticks(rotation = 45)\n",
    "plt.title(\"Chicago Red Light Violations in 2019\")\n",
    "plt.xlabel(\"Months in 2019\")\n",
    "plt.ylabel(\"Number of Red Light Violations\")\n",
    "plt.savefig(\"2019_red_light\")\n",
    "plt.bar(x_axis, number_red_violations, color=\"r\", align=\"center\")"
   ]
  },
  {
   "cell_type": "code",
   "execution_count": null,
   "metadata": {},
   "outputs": [],
   "source": []
  }
 ],
 "metadata": {
  "kernelspec": {
   "display_name": "Python 3",
   "language": "python",
   "name": "python3"
  },
  "language_info": {
   "codemirror_mode": {
    "name": "ipython",
    "version": 3
   },
   "file_extension": ".py",
   "mimetype": "text/x-python",
   "name": "python",
   "nbconvert_exporter": "python",
   "pygments_lexer": "ipython3",
   "version": "3.8.5"
  }
 },
 "nbformat": 4,
 "nbformat_minor": 4
}
