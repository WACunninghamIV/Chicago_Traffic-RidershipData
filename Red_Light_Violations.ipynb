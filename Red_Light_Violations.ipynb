{
 "cells": [
  {
   "cell_type": "code",
   "execution_count": 37,
   "metadata": {},
   "outputs": [],
   "source": [
    "# Import packages \n",
    "import pandas as pd\n",
    "import matplotlib.pyplot as plt\n",
    "import numpy as np\n",
    "import datetime"
   ]
  },
  {
   "cell_type": "code",
   "execution_count": 38,
   "metadata": {},
   "outputs": [],
   "source": [
    "# Store filepath in a variable\n",
    "violation = \"Red_Light_Camera_Violations.csv\""
   ]
  },
  {
   "cell_type": "code",
   "execution_count": 39,
   "metadata": {},
   "outputs": [],
   "source": [
    "# !cd Resources/ && unzip Red_Light_Camera_Violations.csv.zip"
   ]
  },
  {
   "cell_type": "code",
   "execution_count": 40,
   "metadata": {},
   "outputs": [],
   "source": [
    "!open ."
   ]
  },
  {
   "cell_type": "code",
   "execution_count": 41,
   "metadata": {},
   "outputs": [],
   "source": [
    "violation_df = pd.read_csv(\"Resources/Red_Light_Camera_Violations.csv\", encoding=\"UTF-8\")"
   ]
  },
  {
   "cell_type": "code",
   "execution_count": 42,
   "metadata": {},
   "outputs": [
    {
     "data": {
      "text/html": [
       "<div>\n",
       "<style scoped>\n",
       "    .dataframe tbody tr th:only-of-type {\n",
       "        vertical-align: middle;\n",
       "    }\n",
       "\n",
       "    .dataframe tbody tr th {\n",
       "        vertical-align: top;\n",
       "    }\n",
       "\n",
       "    .dataframe thead th {\n",
       "        text-align: right;\n",
       "    }\n",
       "</style>\n",
       "<table border=\"1\" class=\"dataframe\">\n",
       "  <thead>\n",
       "    <tr style=\"text-align: right;\">\n",
       "      <th></th>\n",
       "      <th>INTERSECTION</th>\n",
       "      <th>CAMERA ID</th>\n",
       "      <th>ADDRESS</th>\n",
       "      <th>VIOLATION DATE</th>\n",
       "      <th>VIOLATIONS</th>\n",
       "      <th>X COORDINATE</th>\n",
       "      <th>Y COORDINATE</th>\n",
       "      <th>LATITUDE</th>\n",
       "      <th>LONGITUDE</th>\n",
       "      <th>LOCATION</th>\n",
       "    </tr>\n",
       "  </thead>\n",
       "  <tbody>\n",
       "    <tr>\n",
       "      <th>0</th>\n",
       "      <td>IRVING PARK AND KILPATRICK</td>\n",
       "      <td>2763.0</td>\n",
       "      <td>4700 W IRVING PARK ROA</td>\n",
       "      <td>04/09/2015</td>\n",
       "      <td>4</td>\n",
       "      <td>NaN</td>\n",
       "      <td>NaN</td>\n",
       "      <td>NaN</td>\n",
       "      <td>NaN</td>\n",
       "      <td>NaN</td>\n",
       "    </tr>\n",
       "    <tr>\n",
       "      <th>1</th>\n",
       "      <td>VAN BUREN AND WESTERN</td>\n",
       "      <td>2054.0</td>\n",
       "      <td>2400 W VAN BUREN STREE</td>\n",
       "      <td>04/14/2015</td>\n",
       "      <td>5</td>\n",
       "      <td>NaN</td>\n",
       "      <td>NaN</td>\n",
       "      <td>NaN</td>\n",
       "      <td>NaN</td>\n",
       "      <td>NaN</td>\n",
       "    </tr>\n",
       "    <tr>\n",
       "      <th>2</th>\n",
       "      <td>115TH AND HALSTED</td>\n",
       "      <td>2552.0</td>\n",
       "      <td>11500 S HALSTED STREE</td>\n",
       "      <td>04/08/2015</td>\n",
       "      <td>5</td>\n",
       "      <td>NaN</td>\n",
       "      <td>NaN</td>\n",
       "      <td>NaN</td>\n",
       "      <td>NaN</td>\n",
       "      <td>NaN</td>\n",
       "    </tr>\n",
       "    <tr>\n",
       "      <th>3</th>\n",
       "      <td>IRVING PARK AND KILPATRICK</td>\n",
       "      <td>2764.0</td>\n",
       "      <td>4700 W IRVING PARK ROA</td>\n",
       "      <td>04/19/2015</td>\n",
       "      <td>4</td>\n",
       "      <td>NaN</td>\n",
       "      <td>NaN</td>\n",
       "      <td>NaN</td>\n",
       "      <td>NaN</td>\n",
       "      <td>NaN</td>\n",
       "    </tr>\n",
       "    <tr>\n",
       "      <th>4</th>\n",
       "      <td>ELSTON AND IRVING PARK</td>\n",
       "      <td>1503.0</td>\n",
       "      <td>3700 W IRVING PARK ROA</td>\n",
       "      <td>04/23/2015</td>\n",
       "      <td>3</td>\n",
       "      <td>NaN</td>\n",
       "      <td>NaN</td>\n",
       "      <td>NaN</td>\n",
       "      <td>NaN</td>\n",
       "      <td>NaN</td>\n",
       "    </tr>\n",
       "  </tbody>\n",
       "</table>\n",
       "</div>"
      ],
      "text/plain": [
       "                 INTERSECTION  CAMERA ID                 ADDRESS  \\\n",
       "0  IRVING PARK AND KILPATRICK     2763.0  4700 W IRVING PARK ROA   \n",
       "1       VAN BUREN AND WESTERN     2054.0  2400 W VAN BUREN STREE   \n",
       "2           115TH AND HALSTED     2552.0   11500 S HALSTED STREE   \n",
       "3  IRVING PARK AND KILPATRICK     2764.0  4700 W IRVING PARK ROA   \n",
       "4      ELSTON AND IRVING PARK     1503.0  3700 W IRVING PARK ROA   \n",
       "\n",
       "  VIOLATION DATE  VIOLATIONS  X COORDINATE  Y COORDINATE  LATITUDE  LONGITUDE  \\\n",
       "0     04/09/2015           4           NaN           NaN       NaN        NaN   \n",
       "1     04/14/2015           5           NaN           NaN       NaN        NaN   \n",
       "2     04/08/2015           5           NaN           NaN       NaN        NaN   \n",
       "3     04/19/2015           4           NaN           NaN       NaN        NaN   \n",
       "4     04/23/2015           3           NaN           NaN       NaN        NaN   \n",
       "\n",
       "  LOCATION  \n",
       "0      NaN  \n",
       "1      NaN  \n",
       "2      NaN  \n",
       "3      NaN  \n",
       "4      NaN  "
      ]
     },
     "execution_count": 42,
     "metadata": {},
     "output_type": "execute_result"
    }
   ],
   "source": [
    "violation_df.head()"
   ]
  },
  {
   "cell_type": "code",
   "execution_count": 43,
   "metadata": {},
   "outputs": [],
   "source": [
    "violation_df[\"violation_date_as_date\"] = pd.to_datetime(violation_df[\"VIOLATION DATE\"])\n"
   ]
  },
  {
   "cell_type": "code",
   "execution_count": 44,
   "metadata": {},
   "outputs": [],
   "source": [
    "# Dates 2020 \n",
    "\n",
    "jan_start_date = \"2020-01-01\" \n",
    "jan_end_date = \"2020-01-31\"\n",
    "feb_start_date = \"2020-02-01\" \n",
    "feb_end_date = \"2020-02-29\"\n",
    "mar_start_date = \"2020-03-01\" \n",
    "mar_end_date = \"2020-03-31\"\n",
    "apr_start_date = \"2020-04-01\" \n",
    "apr_end_date = \"2020-04-30\"\n",
    "may_start_date = \"2020-05-01\" \n",
    "may_end_date = \"2020-05-31\"\n",
    "jun_start_date = \"2020-06-01\" \n",
    "jun_end_date = \"2020-06-30\"\n",
    "jul_start_date = \"2020-07-01\" \n",
    "jul_end_date = \"2020-07-31\"\n",
    "aug_start_date = \"2020-08-01\" \n",
    "aug_end_date = \"2020-08-30\"\n",
    "sep_start_date = \"2020-09-01\" \n",
    "sep_end_date = \"2020-09-30\"\n",
    "oct_start_date = \"2020-10-01\" \n",
    "oct_end_date = \"2020-10-31\"\n",
    "nov_start_date = \"2020-11-01\" \n",
    "nov_end_date = \"2020-11-30\"\n",
    "dec_start_date = \"2020-12-01\" \n",
    "dec_end_date = \"2020-12-31\"\n",
    "jan21_start_date = \"2021-01-01\" \n",
    "jan21_end_date = \"2021-01-31\"\n",
    "feb21_start_date = \"2021-02-01\" \n",
    "feb21_end_date = \"2021-02-28\"\n",
    "mar21_start_date = \"2021-03-01\" \n",
    "mar21_end_date = \"2021-03-31\""
   ]
  },
  {
   "cell_type": "code",
   "execution_count": 45,
   "metadata": {},
   "outputs": [],
   "source": [
    "# Month DF\n",
    "\n",
    "jan_2020_df = violation_df.loc[(violation_df[\"violation_date_as_date\"] > jan_start_date) & (violation_df[\"violation_date_as_date\"] <= jan_end_date)]\n",
    "feb_2020_df = violation_df.loc[(violation_df[\"violation_date_as_date\"] > feb_start_date) & (violation_df[\"violation_date_as_date\"] <= feb_end_date)]\n",
    "mar_2020_df = violation_df.loc[(violation_df[\"violation_date_as_date\"] > mar_start_date) & (violation_df[\"violation_date_as_date\"] <= mar_end_date)]\n",
    "apr_2020_df = violation_df.loc[(violation_df[\"violation_date_as_date\"] > apr_start_date) & (violation_df[\"violation_date_as_date\"] <= apr_end_date)]\n",
    "may_2020_df = violation_df.loc[(violation_df[\"violation_date_as_date\"] > may_start_date) & (violation_df[\"violation_date_as_date\"] <= may_end_date)]\n",
    "jun_2020_df = violation_df.loc[(violation_df[\"violation_date_as_date\"] > jun_start_date) & (violation_df[\"violation_date_as_date\"] <= jun_end_date)]\n",
    "jul_2020_df = violation_df.loc[(violation_df[\"violation_date_as_date\"] > jul_start_date) & (violation_df[\"violation_date_as_date\"] <= jul_end_date)]\n",
    "aug_2020_df = violation_df.loc[(violation_df[\"violation_date_as_date\"] > aug_start_date) & (violation_df[\"violation_date_as_date\"] <= aug_end_date)]\n",
    "sep_2020_df = violation_df.loc[(violation_df[\"violation_date_as_date\"] > sep_start_date) & (violation_df[\"violation_date_as_date\"] <= sep_end_date)]\n",
    "oct_2020_df = violation_df.loc[(violation_df[\"violation_date_as_date\"] > oct_start_date) & (violation_df[\"violation_date_as_date\"] <= oct_end_date)]\n",
    "nov_2020_df = violation_df.loc[(violation_df[\"violation_date_as_date\"] > nov_start_date) & (violation_df[\"violation_date_as_date\"] <= nov_end_date)]\n",
    "dec_2020_df = violation_df.loc[(violation_df[\"violation_date_as_date\"] > dec_start_date) & (violation_df[\"violation_date_as_date\"] <= dec_end_date)]\n",
    "jan_2021_df = violation_df.loc[(violation_df[\"violation_date_as_date\"] > jan21_start_date) & (violation_df[\"violation_date_as_date\"] <= jan21_end_date)]\n",
    "feb_2021_df = violation_df.loc[(violation_df[\"violation_date_as_date\"] > feb21_start_date) & (violation_df[\"violation_date_as_date\"] <= feb21_end_date)]\n",
    "mar_2021_df = violation_df.loc[(violation_df[\"violation_date_as_date\"] > mar21_start_date) & (violation_df[\"violation_date_as_date\"] <= mar21_end_date)]\n"
   ]
  },
  {
   "cell_type": "code",
   "execution_count": 46,
   "metadata": {},
   "outputs": [
    {
     "data": {
      "text/html": [
       "<div>\n",
       "<style scoped>\n",
       "    .dataframe tbody tr th:only-of-type {\n",
       "        vertical-align: middle;\n",
       "    }\n",
       "\n",
       "    .dataframe tbody tr th {\n",
       "        vertical-align: top;\n",
       "    }\n",
       "\n",
       "    .dataframe thead th {\n",
       "        text-align: right;\n",
       "    }\n",
       "</style>\n",
       "<table border=\"1\" class=\"dataframe\">\n",
       "  <thead>\n",
       "    <tr style=\"text-align: right;\">\n",
       "      <th></th>\n",
       "      <th>INTERSECTION</th>\n",
       "      <th>CAMERA ID</th>\n",
       "      <th>ADDRESS</th>\n",
       "      <th>VIOLATION DATE</th>\n",
       "      <th>VIOLATIONS</th>\n",
       "      <th>X COORDINATE</th>\n",
       "      <th>Y COORDINATE</th>\n",
       "      <th>LATITUDE</th>\n",
       "      <th>LONGITUDE</th>\n",
       "      <th>LOCATION</th>\n",
       "      <th>violation_date_as_date</th>\n",
       "    </tr>\n",
       "  </thead>\n",
       "  <tbody>\n",
       "    <tr>\n",
       "      <th>2424</th>\n",
       "      <td>ASHLAND AND IRVING PARK</td>\n",
       "      <td>1153.0</td>\n",
       "      <td>1600 W IRVING PARK ROA</td>\n",
       "      <td>03/12/2020</td>\n",
       "      <td>2</td>\n",
       "      <td>NaN</td>\n",
       "      <td>NaN</td>\n",
       "      <td>NaN</td>\n",
       "      <td>NaN</td>\n",
       "      <td>NaN</td>\n",
       "      <td>2020-03-12</td>\n",
       "    </tr>\n",
       "    <tr>\n",
       "      <th>5147</th>\n",
       "      <td>IRVING PARK AND CALIFORNIA</td>\n",
       "      <td>1234.0</td>\n",
       "      <td>2800 W IRVING PARK ROA</td>\n",
       "      <td>03/12/2020</td>\n",
       "      <td>2</td>\n",
       "      <td>NaN</td>\n",
       "      <td>NaN</td>\n",
       "      <td>NaN</td>\n",
       "      <td>NaN</td>\n",
       "      <td>NaN</td>\n",
       "      <td>2020-03-12</td>\n",
       "    </tr>\n",
       "    <tr>\n",
       "      <th>5740</th>\n",
       "      <td>99TH AND HALSTED</td>\n",
       "      <td>2431.0</td>\n",
       "      <td>9900 S HALSTED ST</td>\n",
       "      <td>03/12/2020</td>\n",
       "      <td>17</td>\n",
       "      <td>1.172690e+06</td>\n",
       "      <td>1.839172e+06</td>\n",
       "      <td>41.714119</td>\n",
       "      <td>-87.643145</td>\n",
       "      <td>(41.714118868089905, -87.64314540818165)</td>\n",
       "      <td>2020-03-12</td>\n",
       "    </tr>\n",
       "    <tr>\n",
       "      <th>5741</th>\n",
       "      <td>LAWRENCE AND CICERO</td>\n",
       "      <td>1041.0</td>\n",
       "      <td>4800 N CICERO AVE</td>\n",
       "      <td>03/12/2020</td>\n",
       "      <td>8</td>\n",
       "      <td>1.143465e+06</td>\n",
       "      <td>1.931491e+06</td>\n",
       "      <td>41.968048</td>\n",
       "      <td>-87.747876</td>\n",
       "      <td>(41.968048007293845, -87.74787598468126)</td>\n",
       "      <td>2020-03-12</td>\n",
       "    </tr>\n",
       "    <tr>\n",
       "      <th>5743</th>\n",
       "      <td>PULASKI AND ARMITAGE</td>\n",
       "      <td>1844.0</td>\n",
       "      <td>4000 W ARMITAGE AVENUE</td>\n",
       "      <td>03/12/2020</td>\n",
       "      <td>4</td>\n",
       "      <td>1.149375e+06</td>\n",
       "      <td>1.913029e+06</td>\n",
       "      <td>41.917275</td>\n",
       "      <td>-87.726623</td>\n",
       "      <td>(41.91727506940875, -87.72662274644799)</td>\n",
       "      <td>2020-03-12</td>\n",
       "    </tr>\n",
       "  </tbody>\n",
       "</table>\n",
       "</div>"
      ],
      "text/plain": [
       "                    INTERSECTION  CAMERA ID                 ADDRESS  \\\n",
       "2424     ASHLAND AND IRVING PARK     1153.0  1600 W IRVING PARK ROA   \n",
       "5147  IRVING PARK AND CALIFORNIA     1234.0  2800 W IRVING PARK ROA   \n",
       "5740            99TH AND HALSTED     2431.0       9900 S HALSTED ST   \n",
       "5741         LAWRENCE AND CICERO     1041.0       4800 N CICERO AVE   \n",
       "5743        PULASKI AND ARMITAGE     1844.0  4000 W ARMITAGE AVENUE   \n",
       "\n",
       "     VIOLATION DATE  VIOLATIONS  X COORDINATE  Y COORDINATE   LATITUDE  \\\n",
       "2424     03/12/2020           2           NaN           NaN        NaN   \n",
       "5147     03/12/2020           2           NaN           NaN        NaN   \n",
       "5740     03/12/2020          17  1.172690e+06  1.839172e+06  41.714119   \n",
       "5741     03/12/2020           8  1.143465e+06  1.931491e+06  41.968048   \n",
       "5743     03/12/2020           4  1.149375e+06  1.913029e+06  41.917275   \n",
       "\n",
       "      LONGITUDE                                  LOCATION  \\\n",
       "2424        NaN                                       NaN   \n",
       "5147        NaN                                       NaN   \n",
       "5740 -87.643145  (41.714118868089905, -87.64314540818165)   \n",
       "5741 -87.747876  (41.968048007293845, -87.74787598468126)   \n",
       "5743 -87.726623   (41.91727506940875, -87.72662274644799)   \n",
       "\n",
       "     violation_date_as_date  \n",
       "2424             2020-03-12  \n",
       "5147             2020-03-12  \n",
       "5740             2020-03-12  \n",
       "5741             2020-03-12  \n",
       "5743             2020-03-12  "
      ]
     },
     "execution_count": 46,
     "metadata": {},
     "output_type": "execute_result"
    }
   ],
   "source": [
    "# Violations \n",
    "#feb_2020_df.head()\n",
    "mar_2020_df.head()"
   ]
  },
  {
   "cell_type": "code",
   "execution_count": 47,
   "metadata": {},
   "outputs": [
    {
     "data": {
      "text/plain": [
       "33020"
      ]
     },
     "execution_count": 47,
     "metadata": {},
     "output_type": "execute_result"
    }
   ],
   "source": [
    "jan_2020_df[\"VIOLATIONS\"].sum()"
   ]
  },
  {
   "cell_type": "code",
   "execution_count": 48,
   "metadata": {},
   "outputs": [
    {
     "data": {
      "text/plain": [
       "34524"
      ]
     },
     "execution_count": 48,
     "metadata": {},
     "output_type": "execute_result"
    }
   ],
   "source": [
    "feb_2020_df[\"VIOLATIONS\"].sum()"
   ]
  },
  {
   "cell_type": "code",
   "execution_count": 49,
   "metadata": {},
   "outputs": [
    {
     "data": {
      "text/plain": [
       "34683"
      ]
     },
     "execution_count": 49,
     "metadata": {},
     "output_type": "execute_result"
    }
   ],
   "source": [
    "mar_2020_df[\"VIOLATIONS\"].sum()"
   ]
  },
  {
   "cell_type": "code",
   "execution_count": 50,
   "metadata": {},
   "outputs": [
    {
     "data": {
      "text/plain": [
       "34303"
      ]
     },
     "execution_count": 50,
     "metadata": {},
     "output_type": "execute_result"
    }
   ],
   "source": [
    "apr_2020_df[\"VIOLATIONS\"].sum()"
   ]
  },
  {
   "cell_type": "code",
   "execution_count": 51,
   "metadata": {},
   "outputs": [
    {
     "data": {
      "text/plain": [
       "43889"
      ]
     },
     "execution_count": 51,
     "metadata": {},
     "output_type": "execute_result"
    }
   ],
   "source": [
    "may_2020_df[\"VIOLATIONS\"].sum()"
   ]
  },
  {
   "cell_type": "code",
   "execution_count": 52,
   "metadata": {},
   "outputs": [
    {
     "data": {
      "text/plain": [
       "57156"
      ]
     },
     "execution_count": 52,
     "metadata": {},
     "output_type": "execute_result"
    }
   ],
   "source": [
    "jun_2020_df[\"VIOLATIONS\"].sum()"
   ]
  },
  {
   "cell_type": "code",
   "execution_count": 53,
   "metadata": {},
   "outputs": [
    {
     "data": {
      "text/plain": [
       "56623"
      ]
     },
     "execution_count": 53,
     "metadata": {},
     "output_type": "execute_result"
    }
   ],
   "source": [
    "jul_2020_df[\"VIOLATIONS\"].sum()"
   ]
  },
  {
   "cell_type": "code",
   "execution_count": 54,
   "metadata": {},
   "outputs": [
    {
     "data": {
      "text/plain": [
       "55693"
      ]
     },
     "execution_count": 54,
     "metadata": {},
     "output_type": "execute_result"
    }
   ],
   "source": [
    "aug_2020_df[\"VIOLATIONS\"].sum()"
   ]
  },
  {
   "cell_type": "code",
   "execution_count": 55,
   "metadata": {},
   "outputs": [
    {
     "data": {
      "text/plain": [
       "54153"
      ]
     },
     "execution_count": 55,
     "metadata": {},
     "output_type": "execute_result"
    }
   ],
   "source": [
    "sep_2020_df[\"VIOLATIONS\"].sum()"
   ]
  },
  {
   "cell_type": "code",
   "execution_count": 56,
   "metadata": {},
   "outputs": [
    {
     "data": {
      "text/plain": [
       "51862"
      ]
     },
     "execution_count": 56,
     "metadata": {},
     "output_type": "execute_result"
    }
   ],
   "source": [
    "oct_2020_df[\"VIOLATIONS\"].sum()"
   ]
  },
  {
   "cell_type": "code",
   "execution_count": 57,
   "metadata": {},
   "outputs": [
    {
     "data": {
      "text/plain": [
       "42961"
      ]
     },
     "execution_count": 57,
     "metadata": {},
     "output_type": "execute_result"
    }
   ],
   "source": [
    "nov_2020_df[\"VIOLATIONS\"].sum()"
   ]
  },
  {
   "cell_type": "code",
   "execution_count": 58,
   "metadata": {},
   "outputs": [
    {
     "data": {
      "text/plain": [
       "40855"
      ]
     },
     "execution_count": 58,
     "metadata": {},
     "output_type": "execute_result"
    }
   ],
   "source": [
    "dec_2020_df[\"VIOLATIONS\"].sum()"
   ]
  },
  {
   "cell_type": "code",
   "execution_count": 59,
   "metadata": {},
   "outputs": [
    {
     "data": {
      "text/plain": [
       "35456"
      ]
     },
     "execution_count": 59,
     "metadata": {},
     "output_type": "execute_result"
    }
   ],
   "source": [
    "jan_2021_df[\"VIOLATIONS\"].sum()"
   ]
  },
  {
   "cell_type": "code",
   "execution_count": 60,
   "metadata": {},
   "outputs": [
    {
     "data": {
      "text/plain": [
       "33114"
      ]
     },
     "execution_count": 60,
     "metadata": {},
     "output_type": "execute_result"
    }
   ],
   "source": [
    "feb_2021_df[\"VIOLATIONS\"].sum()"
   ]
  },
  {
   "cell_type": "code",
   "execution_count": 61,
   "metadata": {},
   "outputs": [
    {
     "data": {
      "text/plain": [
       "18162"
      ]
     },
     "execution_count": 61,
     "metadata": {},
     "output_type": "execute_result"
    }
   ],
   "source": [
    "mar_2021_df[\"VIOLATIONS\"].sum()"
   ]
  },
  {
   "cell_type": "code",
   "execution_count": 62,
   "metadata": {},
   "outputs": [
    {
     "ename": "ValueError",
     "evalue": "arrays must all be same length",
     "output_type": "error",
     "traceback": [
      "\u001b[0;31m---------------------------------------------------------------------------\u001b[0m",
      "\u001b[0;31mValueError\u001b[0m                                Traceback (most recent call last)",
      "\u001b[0;32m<ipython-input-62-33bbdabc8a12>\u001b[0m in \u001b[0;36m<module>\u001b[0;34m\u001b[0m\n\u001b[1;32m      4\u001b[0m         \u001b[0;34m'Violations'\u001b[0m\u001b[0;34m:\u001b[0m \u001b[0;34m[\u001b[0m\u001b[0;34m'VIOLATIONS'\u001b[0m\u001b[0;34m]\u001b[0m\u001b[0;34m\u001b[0m\u001b[0;34m\u001b[0m\u001b[0m\n\u001b[1;32m      5\u001b[0m        }\n\u001b[0;32m----> 6\u001b[0;31m \u001b[0mdf\u001b[0m \u001b[0;34m=\u001b[0m \u001b[0mpd\u001b[0m\u001b[0;34m.\u001b[0m\u001b[0mDataFrame\u001b[0m\u001b[0;34m(\u001b[0m\u001b[0mData\u001b[0m\u001b[0;34m,\u001b[0m\u001b[0mcolumns\u001b[0m\u001b[0;34m=\u001b[0m\u001b[0;34m[\u001b[0m\u001b[0;34m'Month'\u001b[0m\u001b[0;34m,\u001b[0m\u001b[0;34m'Violations'\u001b[0m\u001b[0;34m]\u001b[0m\u001b[0;34m)\u001b[0m\u001b[0;34m\u001b[0m\u001b[0;34m\u001b[0m\u001b[0m\n\u001b[0m\u001b[1;32m      7\u001b[0m \u001b[0;34m\u001b[0m\u001b[0m\n\u001b[1;32m      8\u001b[0m \u001b[0mNew_Colors\u001b[0m \u001b[0;34m=\u001b[0m \u001b[0;34m[\u001b[0m\u001b[0;34m'green'\u001b[0m\u001b[0;34m,\u001b[0m\u001b[0;34m'blue'\u001b[0m\u001b[0;34m,\u001b[0m\u001b[0;34m'purple'\u001b[0m\u001b[0;34m,\u001b[0m\u001b[0;34m'brown'\u001b[0m\u001b[0;34m,\u001b[0m\u001b[0;34m'teal'\u001b[0m\u001b[0;34m]\u001b[0m\u001b[0;34m\u001b[0m\u001b[0;34m\u001b[0m\u001b[0m\n",
      "\u001b[0;32m~/opt/anaconda3/lib/python3.8/site-packages/pandas/core/frame.py\u001b[0m in \u001b[0;36m__init__\u001b[0;34m(self, data, index, columns, dtype, copy)\u001b[0m\n\u001b[1;32m    466\u001b[0m \u001b[0;34m\u001b[0m\u001b[0m\n\u001b[1;32m    467\u001b[0m         \u001b[0;32melif\u001b[0m \u001b[0misinstance\u001b[0m\u001b[0;34m(\u001b[0m\u001b[0mdata\u001b[0m\u001b[0;34m,\u001b[0m \u001b[0mdict\u001b[0m\u001b[0;34m)\u001b[0m\u001b[0;34m:\u001b[0m\u001b[0;34m\u001b[0m\u001b[0;34m\u001b[0m\u001b[0m\n\u001b[0;32m--> 468\u001b[0;31m             \u001b[0mmgr\u001b[0m \u001b[0;34m=\u001b[0m \u001b[0minit_dict\u001b[0m\u001b[0;34m(\u001b[0m\u001b[0mdata\u001b[0m\u001b[0;34m,\u001b[0m \u001b[0mindex\u001b[0m\u001b[0;34m,\u001b[0m \u001b[0mcolumns\u001b[0m\u001b[0;34m,\u001b[0m \u001b[0mdtype\u001b[0m\u001b[0;34m=\u001b[0m\u001b[0mdtype\u001b[0m\u001b[0;34m)\u001b[0m\u001b[0;34m\u001b[0m\u001b[0;34m\u001b[0m\u001b[0m\n\u001b[0m\u001b[1;32m    469\u001b[0m         \u001b[0;32melif\u001b[0m \u001b[0misinstance\u001b[0m\u001b[0;34m(\u001b[0m\u001b[0mdata\u001b[0m\u001b[0;34m,\u001b[0m \u001b[0mma\u001b[0m\u001b[0;34m.\u001b[0m\u001b[0mMaskedArray\u001b[0m\u001b[0;34m)\u001b[0m\u001b[0;34m:\u001b[0m\u001b[0;34m\u001b[0m\u001b[0;34m\u001b[0m\u001b[0m\n\u001b[1;32m    470\u001b[0m             \u001b[0;32mimport\u001b[0m \u001b[0mnumpy\u001b[0m\u001b[0;34m.\u001b[0m\u001b[0mma\u001b[0m\u001b[0;34m.\u001b[0m\u001b[0mmrecords\u001b[0m \u001b[0;32mas\u001b[0m \u001b[0mmrecords\u001b[0m\u001b[0;34m\u001b[0m\u001b[0;34m\u001b[0m\u001b[0m\n",
      "\u001b[0;32m~/opt/anaconda3/lib/python3.8/site-packages/pandas/core/internals/construction.py\u001b[0m in \u001b[0;36minit_dict\u001b[0;34m(data, index, columns, dtype)\u001b[0m\n\u001b[1;32m    252\u001b[0m             \u001b[0;31m# GH10856\u001b[0m\u001b[0;34m\u001b[0m\u001b[0;34m\u001b[0m\u001b[0;34m\u001b[0m\u001b[0m\n\u001b[1;32m    253\u001b[0m             \u001b[0;31m# raise ValueError if only scalars in dict\u001b[0m\u001b[0;34m\u001b[0m\u001b[0;34m\u001b[0m\u001b[0;34m\u001b[0m\u001b[0m\n\u001b[0;32m--> 254\u001b[0;31m             \u001b[0mindex\u001b[0m \u001b[0;34m=\u001b[0m \u001b[0mextract_index\u001b[0m\u001b[0;34m(\u001b[0m\u001b[0marrays\u001b[0m\u001b[0;34m[\u001b[0m\u001b[0;34m~\u001b[0m\u001b[0mmissing\u001b[0m\u001b[0;34m]\u001b[0m\u001b[0;34m)\u001b[0m\u001b[0;34m\u001b[0m\u001b[0;34m\u001b[0m\u001b[0m\n\u001b[0m\u001b[1;32m    255\u001b[0m         \u001b[0;32melse\u001b[0m\u001b[0;34m:\u001b[0m\u001b[0;34m\u001b[0m\u001b[0;34m\u001b[0m\u001b[0m\n\u001b[1;32m    256\u001b[0m             \u001b[0mindex\u001b[0m \u001b[0;34m=\u001b[0m \u001b[0mensure_index\u001b[0m\u001b[0;34m(\u001b[0m\u001b[0mindex\u001b[0m\u001b[0;34m)\u001b[0m\u001b[0;34m\u001b[0m\u001b[0;34m\u001b[0m\u001b[0m\n",
      "\u001b[0;32m~/opt/anaconda3/lib/python3.8/site-packages/pandas/core/internals/construction.py\u001b[0m in \u001b[0;36mextract_index\u001b[0;34m(data)\u001b[0m\n\u001b[1;32m    395\u001b[0m             \u001b[0mlengths\u001b[0m \u001b[0;34m=\u001b[0m \u001b[0mlist\u001b[0m\u001b[0;34m(\u001b[0m\u001b[0mset\u001b[0m\u001b[0;34m(\u001b[0m\u001b[0mraw_lengths\u001b[0m\u001b[0;34m)\u001b[0m\u001b[0;34m)\u001b[0m\u001b[0;34m\u001b[0m\u001b[0;34m\u001b[0m\u001b[0m\n\u001b[1;32m    396\u001b[0m             \u001b[0;32mif\u001b[0m \u001b[0mlen\u001b[0m\u001b[0;34m(\u001b[0m\u001b[0mlengths\u001b[0m\u001b[0;34m)\u001b[0m \u001b[0;34m>\u001b[0m \u001b[0;36m1\u001b[0m\u001b[0;34m:\u001b[0m\u001b[0;34m\u001b[0m\u001b[0;34m\u001b[0m\u001b[0m\n\u001b[0;32m--> 397\u001b[0;31m                 \u001b[0;32mraise\u001b[0m \u001b[0mValueError\u001b[0m\u001b[0;34m(\u001b[0m\u001b[0;34m\"arrays must all be same length\"\u001b[0m\u001b[0;34m)\u001b[0m\u001b[0;34m\u001b[0m\u001b[0;34m\u001b[0m\u001b[0m\n\u001b[0m\u001b[1;32m    398\u001b[0m \u001b[0;34m\u001b[0m\u001b[0m\n\u001b[1;32m    399\u001b[0m             \u001b[0;32mif\u001b[0m \u001b[0mhave_dicts\u001b[0m\u001b[0;34m:\u001b[0m\u001b[0;34m\u001b[0m\u001b[0;34m\u001b[0m\u001b[0m\n",
      "\u001b[0;31mValueError\u001b[0m: arrays must all be same length"
     ]
    }
   ],
   "source": [
    "# Yearly Summary Graph\n",
    "\n",
    "Data = {'Month': [jan_start_date,feb_start_date],\n",
    "        'Violations': ['VIOLATIONS']\n",
    "       }\n",
    "df = pd.DataFrame(Data,columns=['Month','Violations'])\n",
    "\n",
    "New_Colors = ['green','blue','purple','brown','teal']\n",
    "plt.bar(df['Month'], df['Violations'], color=New_Colors)\n",
    "\n",
    "'''\n",
    " = \"2020-01-01\" \n",
    "jan_end_date = \"2020-01-31\"\n",
    " = \"2020-02-01\" \n",
    "feb_end_date = \"2020-02-29\"\n",
    "mar_start_date = \"2020-03-01\" \n",
    "mar_end_date = \"2020-03-31\"\n",
    "apr_start_date = \"2020-04-01\" \n",
    "apr_end_date = \"2020-04-30\"\n",
    "may_start_date = \"2020-05-01\" \n",
    "may_end_date = \"2020-05-31\"\n",
    "jun_start_date = \"2020-06-01\" \n",
    "jun_end_date = \"2020-06-30\"\n",
    "jul_start_date = \"2020-07-01\" \n",
    "jul_end_date = \"2020-07-31\"\n",
    "aug_start_date = \"2020-08-01\" \n",
    "aug_end_date = \"2020-08-30\"\n",
    "sep_start_date = \"2020-09-01\" \n",
    "sep_end_date = \"2020-09-30\"\n",
    "oct_start_date = \"2020-10-01\" \n",
    "oct_end_date = \"2020-10-31\"\n",
    "nov_start_date = \"2020-11-01\" \n",
    "nov_end_date = \"2020-11-30\"\n",
    "dec_start_date = \"2020-12-01\" \n",
    "dec_end_date = \"2020-12-31\"\n",
    "jan21_start_date = \"2021-01-01\" \n",
    "jan21_end_date = \"2021-01-31\"\n",
    "feb21_start_date = \"2021-02-01\" \n",
    "feb21_end_date = \"2021-02-28\"\n",
    "mar21_start_date = \"2021-03-01\" \n",
    "mar21_end_date = \"2021-03-31\"\n",
    "'''"
   ]
  },
  {
   "cell_type": "code",
   "execution_count": null,
   "metadata": {},
   "outputs": [],
   "source": []
  },
  {
   "cell_type": "code",
   "execution_count": null,
   "metadata": {},
   "outputs": [],
   "source": []
  }
 ],
 "metadata": {
  "kernelspec": {
   "display_name": "Python 3",
   "language": "python",
   "name": "python3"
  },
  "language_info": {
   "codemirror_mode": {
    "name": "ipython",
    "version": 3
   },
   "file_extension": ".py",
   "mimetype": "text/x-python",
   "name": "python",
   "nbconvert_exporter": "python",
   "pygments_lexer": "ipython3",
   "version": "3.8.5"
  }
 },
 "nbformat": 4,
 "nbformat_minor": 4
}
